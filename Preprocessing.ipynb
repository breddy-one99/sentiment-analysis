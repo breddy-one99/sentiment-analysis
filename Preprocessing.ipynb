{
 "cells": [
  {
   "attachments": {},
   "cell_type": "markdown",
   "id": "942611ae",
   "metadata": {},
   "source": [
    "# Document Review Sentiment Analysis On Movie Review Data\n",
    "\n",
    "## Preprocessing module: Performs the following preprocessing techniques\n",
    "\n",
    "#### 1. Emojis replcement\n",
    "####  2. Removal of html tags\n",
    "####  3. Removal of Url's\n",
    "####  4. Removal of contraction\n",
    "#### 5. Special characters removal\n",
    "#### 6.Removal of numbers\n",
    "#### 7. Removal of duplicate words\n",
    "#### 8. Removal of stopwords\n",
    "#### 9.Stemming"
   ]
  },
  {
   "cell_type": "code",
   "execution_count": 7,
   "id": "2c6ae62e",
   "metadata": {},
   "outputs": [],
   "source": [
    "import pandas as pd\n",
    "import re\n",
    "import os\n",
    "from nltk.corpus import stopwords, words\n",
    "from nltk.stem import WordNetLemmatizer\n",
    "import string\n",
    "from urllib.parse import urlparse"
   ]
  },
  {
   "cell_type": "markdown",
   "id": "1ce9fea0",
   "metadata": {},
   "source": [
    "# Load Dataset"
   ]
  },
  {
   "cell_type": "code",
   "execution_count": 9,
   "id": "1d14acae",
   "metadata": {},
   "outputs": [],
   "source": [
    "movie_dataset = pd.read_csv(r\"C:\\Users\\karth\\OneDrive\\Desktop\\Sentiment_Analysis\\Dataset.csv\")\n"
   ]
  },
  {
   "cell_type": "markdown",
   "id": "091a6e05",
   "metadata": {},
   "source": [
    "# Replace emojis and converting the text into lower case\n",
    "\n",
    "Emojis in the review are replaced by the word"
   ]
  },
  {
   "cell_type": "code",
   "execution_count": 10,
   "id": "a876f6ad",
   "metadata": {},
   "outputs": [],
   "source": [
    "emojis = {':)': 'smile', ':-)': 'smile', ';d': 'wink', ':-E': 'vampire', ':(': 'sad', ':-(': 'sad', ':-<': 'sad',\n",
    "          ':p': 'raspberry', ':o': 'surprised', ':-@': 'shocked', ':@': 'shocked', ':-$': 'confused', ':\\\\': 'annoyed',\n",
    "          ':#': 'mute', ':X': 'mute', ':X': 'mute', ':X': 'mute', ':^)': 'smile', ':-&': 'confused', '$_$': 'greedy',\n",
    "          '@@': 'eyeroll', ':-!': 'confused', ':D': 'smile', ':-0': 'yell', '0.o': 'confused', '<(-_-)>': 'robot',\n",
    "          'd[-_-]b': 'dj', \":'-)\": 'sadsmile', ';)': 'wink', ';-)': 'wink', '0:-)': 'angel', '0*-)': 'angel',\n",
    "          '(:-D': 'gossip', '=^.^=': 'cat'}\n",
    "\n",
    "\n",
    "def clean_data(data):\n",
    "    data = str(data).lower()\n",
    "    data = re.sub(r\"@\\S+ \", r'', data)\n",
    "\n",
    "    for emoji in emojis.keys():\n",
    "        data = data.replace(emoji, emojis[emoji])\n",
    "\n",
    "    return data"
   ]
  },
  {
   "cell_type": "code",
   "execution_count": 11,
   "id": "f5fff648",
   "metadata": {},
   "outputs": [],
   "source": [
    "movie_dataset['review'] = movie_dataset['review'].apply(lambda x: clean_data(x))\n"
   ]
  },
  {
   "cell_type": "code",
   "execution_count": 12,
   "id": "7ec626c5",
   "metadata": {},
   "outputs": [
    {
     "name": "stdout",
     "output_type": "stream",
     "text": [
      "one of the other reviewers has mentioned that after watching just 1 oz episode you'll be hooked. they are right, as this is exactly what happened with me.<br /><br />the first thing that struck me about oz was its brutality and unflinching scenes of violence, which set in right from the word go. trust me, this is not a show for the faint hearted or timid. this show pulls no punches with regards to drugs, sex or violence. its is hardcore, in the classic use of the word.<br /><br />it is called oz as that is the nickname given to the oswald maximum security state penitentary. it focuses mainly on emerald city, an experimental section of the prison where all the cells have glass fronts and face inwards, so privacy is not high on the agenda. em city is home to many..aryans, muslims, gangstas, latinos, christians, italians, irish and more....so scuffles, death stares, dodgy dealings and shady agreements are never far away.<br /><br />i would say the main appeal of the show is due to the fact that it goes where other shows wouldn't dare. forget pretty pictures painted for mainstream audiences, forget charm, forget romance...oz doesn't mess around. the first episode i ever saw struck me as so nasty it was surreal, i couldn't say i was ready for it, but as i watched more, i developed a taste for oz, and got accustomed to the high levels of graphic violence. not just violence, but injustice (crooked guards who'll be sold out for a nickel, inmates who'll kill on order and get away with it, well mannered, middle class inmates being turned into prison bitches due to their lack of street skills or prison experience) watching oz, you may become comfortable with what is uncomfortable viewing....thats if you can get in touch with your darker side.\n"
     ]
    }
   ],
   "source": [
    "print(movie_dataset['review'][0])"
   ]
  },
  {
   "cell_type": "markdown",
   "id": "663504f0",
   "metadata": {},
   "source": [
    "# Removal Of HTML Tags"
   ]
  },
  {
   "cell_type": "code",
   "execution_count": 13,
   "id": "f119a15b",
   "metadata": {},
   "outputs": [],
   "source": [
    "\n",
    "def remove_html(review):\n",
    "    regex = re.compile(r'<[^>]+>')\n",
    "    return regex.sub('', review)\n"
   ]
  },
  {
   "cell_type": "code",
   "execution_count": 14,
   "id": "afbf5f3b",
   "metadata": {},
   "outputs": [
    {
     "name": "stdout",
     "output_type": "stream",
     "text": [
      "0        one of the other reviewers has mentioned that ...\n",
      "1        a wonderful little production. the filming tec...\n",
      "2        i thought this was a wonderful way to spend ti...\n",
      "3        basically there's a family where a little boy ...\n",
      "4        petter mattei's \"love in the time of money\" is...\n",
      "                               ...                        \n",
      "49995    i thought this movie did a down right good job...\n",
      "49996    bad plot, bad dialogue, bad acting, idiotic di...\n",
      "49997    i am a catholic taught in parochial elementary...\n",
      "49998    i'm going to have to disagree with the previou...\n",
      "49999    no one expects the star trek movies to be high...\n",
      "Name: review, Length: 50000, dtype: object\n"
     ]
    }
   ],
   "source": [
    "movie_dataset['review'] = movie_dataset['review'].apply(remove_html)\n",
    "print(movie_dataset['review'])"
   ]
  },
  {
   "cell_type": "markdown",
   "id": "5a543a8f",
   "metadata": {},
   "source": [
    "# Removal Of URL's"
   ]
  },
  {
   "cell_type": "code",
   "execution_count": 15,
   "id": "b11f1968",
   "metadata": {},
   "outputs": [],
   "source": [
    "def remove_url(review):\n",
    "    lst = [l for l in review.split() if not urlparse(l).scheme]\n",
    "    s = ' '.join(lst)\n",
    "    return s"
   ]
  },
  {
   "cell_type": "code",
   "execution_count": 16,
   "id": "9b7cdce2",
   "metadata": {},
   "outputs": [
    {
     "name": "stdout",
     "output_type": "stream",
     "text": [
      "0        one of the other reviewers has mentioned that ...\n",
      "1        a wonderful little production. the filming tec...\n",
      "2        i thought this was a wonderful way to spend ti...\n",
      "3        basically there's a family where a little boy ...\n",
      "4        petter mattei's \"love in the time of money\" is...\n",
      "                               ...                        \n",
      "49995    i thought this movie did a down right good job...\n",
      "49996    bad plot, bad dialogue, bad acting, idiotic di...\n",
      "49997    i am a catholic taught in parochial elementary...\n",
      "49998    i'm going to have to disagree with the previou...\n",
      "49999    no one expects the star trek movies to be high...\n",
      "Name: review, Length: 50000, dtype: object\n"
     ]
    }
   ],
   "source": [
    "movie_dataset['review'] = movie_dataset['review'].apply(remove_url)\n",
    "print(movie_dataset['review'])"
   ]
  },
  {
   "cell_type": "markdown",
   "id": "1f21befd",
   "metadata": {},
   "source": [
    "### Removal of contractions"
   ]
  },
  {
   "cell_type": "code",
   "execution_count": 17,
   "id": "2c975e1e",
   "metadata": {},
   "outputs": [],
   "source": [
    "import contractions\n",
    "\n",
    "def remove_contractions(text):\n",
    "    return contractions.fix(text)\n",
    "\n",
    "   \n",
    "movie_dataset['review'] = movie_dataset['review'].apply(remove_contractions)\n"
   ]
  },
  {
   "cell_type": "code",
   "execution_count": 18,
   "id": "3095218f",
   "metadata": {},
   "outputs": [
    {
     "data": {
      "text/plain": [
       "0        one of the other reviewers has mentioned that ...\n",
       "1        a wonderful little production. the filming tec...\n",
       "2        i thought this was a wonderful way to spend ti...\n",
       "3        basically there is a family where a little boy...\n",
       "4        petter mattei's \"love in the time of money\" is...\n",
       "                               ...                        \n",
       "49995    i thought this movie did a down right good job...\n",
       "49996    bad plot, bad dialogue, bad acting, idiotic di...\n",
       "49997    i am a catholic taught in parochial elementary...\n",
       "49998    i am going to have to disagree with the previo...\n",
       "49999    no one expects the star trek movies to be high...\n",
       "Name: review, Length: 50000, dtype: object"
      ]
     },
     "execution_count": 18,
     "metadata": {},
     "output_type": "execute_result"
    }
   ],
   "source": [
    "movie_dataset['review']"
   ]
  },
  {
   "cell_type": "markdown",
   "id": "17381e0b",
   "metadata": {},
   "source": [
    "# Removal Of Special Characters"
   ]
  },
  {
   "cell_type": "code",
   "execution_count": 19,
   "id": "5c43f498",
   "metadata": {},
   "outputs": [],
   "source": [
    "def remove_special_characters(review):\n",
    "    \n",
    "    return review.translate(str.maketrans('', '', string.punctuation))\n"
   ]
  },
  {
   "cell_type": "code",
   "execution_count": 20,
   "id": "bc3842f1",
   "metadata": {},
   "outputs": [],
   "source": [
    "movie_dataset['review'] = movie_dataset['review'].apply(remove_special_characters)"
   ]
  },
  {
   "cell_type": "code",
   "execution_count": 21,
   "id": "b97b5571",
   "metadata": {},
   "outputs": [
    {
     "data": {
      "text/plain": [
       "0        one of the other reviewers has mentioned that ...\n",
       "1        a wonderful little production the filming tech...\n",
       "2        i thought this was a wonderful way to spend ti...\n",
       "3        basically there is a family where a little boy...\n",
       "4        petter matteis love in the time of money is a ...\n",
       "                               ...                        \n",
       "49995    i thought this movie did a down right good job...\n",
       "49996    bad plot bad dialogue bad acting idiotic direc...\n",
       "49997    i am a catholic taught in parochial elementary...\n",
       "49998    i am going to have to disagree with the previo...\n",
       "49999    no one expects the star trek movies to be high...\n",
       "Name: review, Length: 50000, dtype: object"
      ]
     },
     "execution_count": 21,
     "metadata": {},
     "output_type": "execute_result"
    }
   ],
   "source": [
    "movie_dataset['review']"
   ]
  },
  {
   "cell_type": "markdown",
   "id": "33fe9616",
   "metadata": {},
   "source": [
    "### Removal of numbers"
   ]
  },
  {
   "cell_type": "code",
   "execution_count": 24,
   "id": "c3b564b6",
   "metadata": {},
   "outputs": [],
   "source": [
    "def remove_digits(text):\n",
    "    return re.sub('\\d+', '', text)\n",
    "\n"
   ]
  },
  {
   "cell_type": "code",
   "execution_count": 25,
   "id": "2925bd43",
   "metadata": {},
   "outputs": [
    {
     "data": {
      "text/plain": [
       "0        one of the other reviewers has mentioned that ...\n",
       "1        a wonderful little production the filming tech...\n",
       "2        i thought this was a wonderful way to spend ti...\n",
       "3        basically there is a family where a little boy...\n",
       "4        petter matteis love in the time of money is a ...\n",
       "                               ...                        \n",
       "49995    i thought this movie did a down right good job...\n",
       "49996    bad plot bad dialogue bad acting idiotic direc...\n",
       "49997    i am a catholic taught in parochial elementary...\n",
       "49998    i am going to have to disagree with the previo...\n",
       "49999    no one expects the star trek movies to be high...\n",
       "Name: review, Length: 50000, dtype: object"
      ]
     },
     "execution_count": 25,
     "metadata": {},
     "output_type": "execute_result"
    }
   ],
   "source": [
    "movie_dataset['review'] = movie_dataset['review'].apply(remove_digits)\n",
    "movie_dataset['review']"
   ]
  },
  {
   "cell_type": "markdown",
   "id": "07a19d3c",
   "metadata": {},
   "source": [
    "### Removal Of Duplicate Words"
   ]
  },
  {
   "cell_type": "code",
   "execution_count": 26,
   "id": "611b3aaf",
   "metadata": {},
   "outputs": [],
   "source": [
    "def remove_duplicates(review):\n",
    "    wordList = review.split(\" \")\n",
    "    UniqW = Counter(wordList)\n",
    "    s = \" \".join(UniqW.keys())\n",
    "    return s\n",
    "    \n",
    "movie_dataset['review'] = movie_dataset['review'].apply(remove_duplicates)"
   ]
  },
  {
   "cell_type": "code",
   "execution_count": 27,
   "id": "f4ef7cdd",
   "metadata": {},
   "outputs": [
    {
     "data": {
      "text/plain": [
       "0        one of the other reviewers has mentioned that ...\n",
       "1        a wonderful little production the filming tech...\n",
       "2        i thought this was a wonderful way to spend ti...\n",
       "3        basically there is a family where little boy j...\n",
       "4        petter matteis love in the time of money is a ...\n",
       "                               ...                        \n",
       "49995    i thought this movie did a down right good job...\n",
       "49996    bad plot dialogue acting idiotic directing the...\n",
       "49997    i am a catholic taught in parochial elementary...\n",
       "49998    i am going to have disagree with the previous ...\n",
       "49999    no one expects the star trek movies to be high...\n",
       "Name: review, Length: 50000, dtype: object"
      ]
     },
     "execution_count": 27,
     "metadata": {},
     "output_type": "execute_result"
    }
   ],
   "source": [
    "movie_dataset['review']"
   ]
  },
  {
   "cell_type": "markdown",
   "id": "19403caf",
   "metadata": {},
   "source": [
    "# Removing stop words"
   ]
  },
  {
   "cell_type": "code",
   "execution_count": 28,
   "id": "f148449a",
   "metadata": {},
   "outputs": [],
   "source": [
    "stop_words = stopwords.words(\"english\")\n",
    "\n",
    "def stops_words(words):\n",
    "    filter_words = []\n",
    "\n",
    "    for w in words:\n",
    "        if w not in stop_words:\n",
    "            filter_words.append(w)\n",
    "\n",
    "    return filter_words"
   ]
  },
  {
   "cell_type": "code",
   "execution_count": 29,
   "id": "145f4711",
   "metadata": {},
   "outputs": [],
   "source": [
    "movie_dataset['review'] = movie_dataset['review'].apply(lambda x: x.split(\" \"))\n",
    "movie_dataset['review'] = movie_dataset['review'].apply(lambda x: stops_words(x))"
   ]
  },
  {
   "cell_type": "code",
   "execution_count": 30,
   "id": "9297113a",
   "metadata": {},
   "outputs": [
    {
     "data": {
      "text/plain": [
       "0        [one, reviewers, mentioned, watching, , oz, ep...\n",
       "1        [wonderful, little, production, filming, techn...\n",
       "2        [thought, wonderful, way, spend, time, hot, su...\n",
       "3        [basically, family, little, boy, jake, thinks,...\n",
       "4        [petter, matteis, love, time, money, visually,...\n",
       "                               ...                        \n",
       "49995    [thought, movie, right, good, job, creative, o...\n",
       "49996    [bad, plot, dialogue, acting, idiotic, directi...\n",
       "49997    [catholic, taught, parochial, elementary, scho...\n",
       "49998    [going, disagree, previous, comment, side, mal...\n",
       "49999    [one, expects, star, trek, movies, high, art, ...\n",
       "Name: review, Length: 50000, dtype: object"
      ]
     },
     "execution_count": 30,
     "metadata": {},
     "output_type": "execute_result"
    }
   ],
   "source": [
    "movie_dataset['review']"
   ]
  },
  {
   "cell_type": "markdown",
   "id": "8f3c13e2",
   "metadata": {},
   "source": [
    "# Stemming"
   ]
  },
  {
   "cell_type": "code",
   "execution_count": 31,
   "id": "58241ec7",
   "metadata": {},
   "outputs": [
    {
     "name": "stdout",
     "output_type": "stream",
     "text": [
      "Processed Data: \n",
      "                                                review sentiment\n",
      "0   one reviewer mentioned watching  oz episode ho...  positive\n",
      "1   wonderful little production filming technique ...  positive\n",
      "2   thought wonderful way spend time hot summer we...  positive\n",
      "3   basically family little boy jake think zombie ...  negative\n",
      "4   petter matteis love time money visually stunni...  positive\n",
      "5   probably alltime favorite movie story selfless...  positive\n",
      "6   sure would like see resurrection dated seahunt...  positive\n",
      "7   show amazing fresh  innovative idea first aire...  negative\n",
      "8   encouraged positive comment film looking forwa...  negative\n",
      "9   like original gut wrenching laughter movie you...  positive\n",
      "10  phil alien one quirky film humour based around...  negative\n",
      "11  saw movie  came recall scariest scene big bird...  negative\n",
      "12  big fan boll work many enjoyed movie postal ma...  negative\n",
      "13  cast played shakespeareshakespeare losti appre...  negative\n",
      "14  fantastic movie three prisoner become famous o...  positive\n",
      "15  kind drawn erotic scene realize one amateurish...  negative\n",
      "16  film simply remade one bad film fails capture ...  positive\n",
      "17  movie made one top  awful movie horrible conti...  negative\n",
      "18  remember filmit first film watched cinema pict...  positive\n",
      "19  awful film must real stinker nominated golden ...  negative\n"
     ]
    }
   ],
   "source": [
    "lemmatizer = WordNetLemmatizer()\n",
    "movie_dataset['review'] = movie_dataset['review'].apply(lambda x: [lemmatizer.lemmatize(word) for word in x])\n",
    "movie_dataset['review'] = movie_dataset['review'].apply(lambda x: ' '.join(x))\n",
    "\n",
    "print(\"Processed Data: \\n\", movie_dataset.head(20))"
   ]
  },
  {
   "cell_type": "markdown",
   "id": "ad7c8825",
   "metadata": {},
   "source": [
    "### Saving preprocessed data"
   ]
  },
  {
   "cell_type": "code",
   "execution_count": 33,
   "id": "95161d17",
   "metadata": {},
   "outputs": [],
   "source": [
    "movie_dataset.to_csv(r\"C:\\Users\\karth\\OneDrive\\Desktop\\Sentiment_Analysis\\IMDB_Dataset.csv\", index = False)"
   ]
  }
 ],
 "metadata": {
  "kernelspec": {
   "display_name": "Python 3 (ipykernel)",
   "language": "python",
   "name": "python3"
  },
  "language_info": {
   "codemirror_mode": {
    "name": "ipython",
    "version": 3
   },
   "file_extension": ".py",
   "mimetype": "text/x-python",
   "name": "python",
   "nbconvert_exporter": "python",
   "pygments_lexer": "ipython3",
   "version": "3.9.13"
  }
 },
 "nbformat": 4,
 "nbformat_minor": 5
}
