{
 "cells": [
  {
   "cell_type": "code",
   "execution_count": 1,
   "metadata": {},
   "outputs": [],
   "source": [
    "import pandas as pd\n",
    "from sklearn.model_selection import train_test_split"
   ]
  },
  {
   "cell_type": "code",
   "execution_count": 6,
   "metadata": {},
   "outputs": [
    {
     "name": "stdout",
     "output_type": "stream",
     "text": [
      "X_train: (35000,) y_train (35000,)\n",
      "0    17589\n",
      "1    17411\n",
      "Name: sentiment, dtype: int64\n",
      "\n",
      "X_test: (15000,) y_test (15000,)\n",
      "1    7589\n",
      "0    7411\n",
      "Name: sentiment, dtype: int64\n",
      "\n"
     ]
    }
   ],
   "source": [
    "data_path = \"../data/\"\n",
    "df = pd.read_csv(data_path+\"IMDB Dataset.csv\")\n",
    "df.sentiment = df.sentiment.astype('category').cat.codes\n",
    "\n",
    "# 70/30 train / test split\n",
    "X_train, X_test, y_train, y_test = train_test_split(\n",
    "  df.review, df.sentiment, \n",
    "  train_size=0.7,\n",
    "  random_state=42)\n",
    "\n",
    "print(f\"X_train: {X_train.shape} y_train {y_train.shape}\\n{y_train.value_counts()}\")\n",
    "print(f\"\\nX_test: {X_test.shape} y_test {y_test.shape}\\n{y_test.value_counts()}\\n\")\n",
    "\n",
    "# save splits to files\n",
    "splits = [X_train, X_test, y_train, y_test]\n",
    "files = ['X_train', 'X_test', 'y_train', 'y_test']\n",
    "for split, file in zip(splits, files):\n",
    "  split.to_csv(data_path+file+'.csv')"
   ]
  },
  {
   "cell_type": "code",
   "execution_count": 7,
   "metadata": {},
   "outputs": [
    {
     "name": "stdout",
     "output_type": "stream",
     "text": [
      "X_train: (35000,)\n",
      "X_test: (15000,)\n",
      "y_train: (35000,)\n",
      "y_test: (15000,)\n"
     ]
    }
   ],
   "source": [
    "# load splits as `pandas.core.series.Series`\n",
    "splits_load = {}\n",
    "for file in files:\n",
    "  splits_load[file] = pd.read_csv(data_path+file+'.csv', index_col=0, squeeze=True)\n",
    "  print(f\"{file}: {splits_load[file].shape}\")"
   ]
  }
 ],
 "metadata": {
  "kernelspec": {
   "display_name": "Python 3.7.6 64-bit ('3.7.6')",
   "language": "python",
   "name": "python3"
  },
  "language_info": {
   "codemirror_mode": {
    "name": "ipython",
    "version": 3
   },
   "file_extension": ".py",
   "mimetype": "text/x-python",
   "name": "python",
   "nbconvert_exporter": "python",
   "pygments_lexer": "ipython3",
   "version": "3.7.6"
  },
  "orig_nbformat": 4,
  "vscode": {
   "interpreter": {
    "hash": "8dc3eafe1b0ac348fa60c3f2fd57ab4c4183a188f28f3536c13d39268a6fd935"
   }
  }
 },
 "nbformat": 4,
 "nbformat_minor": 2
}
