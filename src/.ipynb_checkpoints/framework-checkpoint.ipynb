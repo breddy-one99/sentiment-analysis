{
 "cells": [
  {
   "cell_type": "code",
   "execution_count": 3,
   "metadata": {},
   "outputs": [],
   "source": [
    "import numpy as np\n",
    "from collections import defaultdict\n",
    "from classify import experiment_train_test\n",
    "import pandas as pd"
   ]
  },
  {
   "cell_type": "code",
   "execution_count": 4,
   "metadata": {},
   "outputs": [],
   "source": [
    "# load example data\n",
    "df = pd.read_csv(\"../input/cleanseDAta.csv\")\n",
    "\n",
    "input_path = \"../input/\"\n",
    "percentToTrain = 70\n",
    "trainingData = df.head(int(len(df)*(percentToTrain/100)))\n",
    "\n",
    "percentToTest = 100 - percentToTrain\n",
    "testData = df.tail(int(len(df) * (percentToTest/100)))"
   ]
  },
  {
   "cell_type": "code",
   "execution_count": 7,
   "metadata": {},
   "outputs": [],
   "source": [
    "### Vectorize the data ( here we can do a lot of different ways we will do a default way for now)\n",
    "from sklearn.feature_extraction.text import TfidfVectorizer\n",
    "Tfidf_vect = TfidfVectorizer(max_features=5000)\n",
    "Tfidf_vect.fit(df.review)\n",
    "X_train  = Tfidf_vect.transform(trainingData.review)\n",
    "X_test = Tfidf_vect.transform(testData.review)\n",
    "y_train=trainingData.sentiment\n",
    "y_test=testData.sentiment"
   ]
  },
  {
   "cell_type": "code",
   "execution_count": 8,
   "metadata": {},
   "outputs": [
    {
     "name": "stdout",
     "output_type": "stream",
     "text": [
      "MultinomialNB()\n",
      "              precision    recall  f1-score   support\n",
      "\n",
      "    negative      0.852     0.850     0.851      7490\n",
      "    positive      0.851     0.853     0.852      7510\n",
      "\n",
      "    accuracy                          0.851     15000\n",
      "   macro avg      0.851     0.851     0.851     15000\n",
      "weighted avg      0.851     0.851     0.851     15000\n",
      "\n",
      "LinearSVC()\n",
      "              precision    recall  f1-score   support\n",
      "\n",
      "    negative      0.887     0.882     0.885      7490\n",
      "    positive      0.883     0.888     0.886      7510\n",
      "\n",
      "    accuracy                          0.885     15000\n",
      "   macro avg      0.885     0.885     0.885     15000\n",
      "weighted avg      0.885     0.885     0.885     15000\n",
      "\n",
      "LogisticRegression(solver='liblinear')\n",
      "              precision    recall  f1-score   support\n",
      "\n",
      "    negative      0.894     0.885     0.889      7490\n",
      "    positive      0.886     0.895     0.890      7510\n",
      "\n",
      "    accuracy                          0.890     15000\n",
      "   macro avg      0.890     0.890     0.890     15000\n",
      "weighted avg      0.890     0.890     0.890     15000\n",
      "\n"
     ]
    }
   ],
   "source": [
    "# train / test\n",
    "models = ['nb', 'svm', 'lr']\n",
    "results = defaultdict()\n",
    "\n",
    "for model in models:\n",
    "  results[model] = experiment_train_test(X_train=X_train,\n",
    "                                         y_train=y_train, \n",
    "                                         X_test=X_test, \n",
    "                                         y_test=y_test, \n",
    "                                         classifier=model,\n",
    "                                         verbose=True)"
   ]
  },
  {
   "cell_type": "code",
   "execution_count": 9,
   "metadata": {},
   "outputs": [
    {
     "name": "stdout",
     "output_type": "stream",
     "text": [
      "nb:\t0.851\n",
      "svm:\t0.885\n",
      "lr:\t0.890\n"
     ]
    }
   ],
   "source": [
    "# f-1 scores\n",
    "for k,v in results.items():\n",
    "  print(f\"{k}:\\t{v['score']:.3f}\")"
   ]
  },
  {
   "cell_type": "code",
   "execution_count": null,
   "metadata": {},
   "outputs": [],
   "source": []
  }
 ],
 "metadata": {
  "kernelspec": {
   "display_name": "Python 3 (ipykernel)",
   "language": "python",
   "name": "python3"
  },
  "language_info": {
   "codemirror_mode": {
    "name": "ipython",
    "version": 3
   },
   "file_extension": ".py",
   "mimetype": "text/x-python",
   "name": "python",
   "nbconvert_exporter": "python",
   "pygments_lexer": "ipython3",
   "version": "3.9.1"
  },
  "vscode": {
   "interpreter": {
    "hash": "8dc3eafe1b0ac348fa60c3f2fd57ab4c4183a188f28f3536c13d39268a6fd935"
   }
  }
 },
 "nbformat": 4,
 "nbformat_minor": 2
}
