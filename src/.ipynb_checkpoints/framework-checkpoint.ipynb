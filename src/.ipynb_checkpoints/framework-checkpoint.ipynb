{
 "cells": [
  {
   "cell_type": "code",
   "execution_count": 1,
   "metadata": {},
   "outputs": [],
   "source": [
    "import numpy as np\n",
    "from collections import defaultdict\n",
    "from classify import experiment_train_test\n",
    "import pandas as pd\n",
    "\n",
    "import warnings\n",
    "warnings.filterwarnings(\"ignore\")"
   ]
  },
  {
   "cell_type": "code",
   "execution_count": 2,
   "metadata": {},
   "outputs": [],
   "source": [
    "# load train data\n",
    "df = pd.read_csv(\"../input/cleanseDAta.csv\")\n",
    "\n",
    "input_path = \"../input/\"\n",
    "percentToTrain = 70\n",
    "numberToTrain = int(len(df)*(percentToTrain/100));\n",
    "trainingData = df.head(int(len(df)*(percentToTrain/100)))\n",
    "\n",
    "percentToTest = 100 - percentToTrain\n",
    "testData = df.tail(int(len(df) * (percentToTest/100)))"
   ]
  },
  {
   "cell_type": "code",
   "execution_count": 3,
   "metadata": {},
   "outputs": [],
   "source": [
    "# #trying the TF-IDF approach\n",
    "# from sklearn.feature_extraction.text import TfidfVectorizer\n",
    "\n",
    "# Tfidf_vect = TfidfVectorizer(max_features=5000)\n",
    "# Tfidf_vect.fit(df.review)\n",
    "\n",
    "# X_train  = Tfidf_vect.transform(trainingData.review)\n",
    "# X_test = Tfidf_vect.transform(testData.review)\n",
    "\n",
    "# y_train=trainingData.sentiment\n",
    "# y_test=testData.sentiment"
   ]
  },
  {
   "cell_type": "code",
   "execution_count": 4,
   "metadata": {},
   "outputs": [],
   "source": [
    "# #trying the Bag-of-Words approach\n",
    "# from sklearn.feature_extraction.text import CountVectorizer\n",
    "\n",
    "# cv = CountVectorizer()\n",
    "# cv.fit(df.review)\n",
    "\n",
    "# X_train = cv.transform(trainingData.review)\n",
    "# X_test = cv.transform(testData.review)\n",
    "\n",
    "# y_train = trainingData.sentiment\n",
    "# y_test = testData.sentiment"
   ]
  },
  {
   "cell_type": "code",
   "execution_count": 5,
   "metadata": {},
   "outputs": [],
   "source": [
    "#trying Hash vecotrizer approach\n",
    "from sklearn.feature_extraction.text import HashingVectorizer\n",
    "\n",
    "hv = HashingVectorizer(alternate_sign = False)\n",
    "hv.fit(df.review)\n",
    "\n",
    "X_train = hv.transform(trainingData.review)\n",
    "X_test = hv.transform(testData.review)\n",
    "\n",
    "y_train = trainingData.sentiment\n",
    "y_test = testData.sentiment"
   ]
  },
  {
   "cell_type": "code",
   "execution_count": 6,
   "metadata": {},
   "outputs": [
    {
     "name": "stdout",
     "output_type": "stream",
     "text": [
      "MultinomialNB()\n",
      "              precision    recall  f1-score   support\n",
      "\n",
      "    negative      0.804     0.798     0.801      7490\n",
      "    positive      0.800     0.806     0.803      7510\n",
      "\n",
      "    accuracy                          0.802     15000\n",
      "   macro avg      0.802     0.802     0.802     15000\n",
      "weighted avg      0.802     0.802     0.802     15000\n",
      "\n",
      "LinearSVC()\n",
      "              precision    recall  f1-score   support\n",
      "\n",
      "    negative      0.803     0.786     0.795      7490\n",
      "    positive      0.791     0.808     0.799      7510\n",
      "\n",
      "    accuracy                          0.797     15000\n",
      "   macro avg      0.797     0.797     0.797     15000\n",
      "weighted avg      0.797     0.797     0.797     15000\n",
      "\n",
      "LogisticRegression(solver='liblinear')\n",
      "              precision    recall  f1-score   support\n",
      "\n",
      "    negative      0.802     0.774     0.788      7490\n",
      "    positive      0.782     0.809     0.795      7510\n",
      "\n",
      "    accuracy                          0.792     15000\n",
      "   macro avg      0.792     0.792     0.792     15000\n",
      "weighted avg      0.792     0.792     0.792     15000\n",
      "\n"
     ]
    },
    {
     "data": {
      "text/plain": [
       "defaultdict(None,\n",
       "            {'nb': {'model': MultinomialNB(),\n",
       "              'score': 0.8017947770721479,\n",
       "              'predictions': array(['negative', 'positive', 'negative', ..., 'negative', 'positive',\n",
       "                     'negative'], dtype='<U8')},\n",
       "             'svm': {'model': LinearSVC(),\n",
       "              'score': 0.7970387247623921,\n",
       "              'predictions': array(['negative', 'positive', 'negative', ..., 'negative', 'positive',\n",
       "                     'negative'], dtype=object)},\n",
       "             'lr': {'model': LogisticRegression(solver='liblinear'),\n",
       "              'score': 0.7915945667229702,\n",
       "              'predictions': array(['negative', 'positive', 'negative', ..., 'negative', 'positive',\n",
       "                     'negative'], dtype=object)}})"
      ]
     },
     "execution_count": 6,
     "metadata": {},
     "output_type": "execute_result"
    }
   ],
   "source": [
    "# train / test\n",
    "models = ['nb', 'svm', 'lr']\n",
    "results = defaultdict()\n",
    "\n",
    "for model in models:\n",
    "  results[model] = experiment_train_test(X_train=X_train,\n",
    "                                         y_train=y_train, \n",
    "                                         X_test=X_test, \n",
    "                                         y_test=y_test, \n",
    "                                         classifier=model,\n",
    "                                         verbose=True)\n",
    "results"
   ]
  },
  {
   "cell_type": "code",
   "execution_count": 7,
   "metadata": {},
   "outputs": [
    {
     "name": "stdout",
     "output_type": "stream",
     "text": [
      "nb:\t0.802\n",
      "svm:\t0.797\n",
      "lr:\t0.792\n"
     ]
    }
   ],
   "source": [
    "# f-1 scores\n",
    "for k,v in results.items():\n",
    "  print(f\"{k}:\\t{v['score']:.3f}\")"
   ]
  },
  {
   "cell_type": "code",
   "execution_count": null,
   "metadata": {},
   "outputs": [],
   "source": [
    "# svmModel = results['svm']['model']"
   ]
  },
  {
   "cell_type": "code",
   "execution_count": null,
   "metadata": {},
   "outputs": [],
   "source": [
    "# testResults = svmModel.predict(X_test)\n",
    "# testResults"
   ]
  },
  {
   "cell_type": "code",
   "execution_count": null,
   "metadata": {},
   "outputs": [],
   "source": [
    "# correctData = pd.DataFrame()\n",
    "# incorrectData = pd.DataFrame()"
   ]
  },
  {
   "cell_type": "code",
   "execution_count": null,
   "metadata": {},
   "outputs": [],
   "source": [
    "# orginalData = pd.read_csv(\"../input/IMDB Dataset.csv\")\n"
   ]
  },
  {
   "cell_type": "code",
   "execution_count": null,
   "metadata": {},
   "outputs": [],
   "source": [
    "# for index in range(len(testResults)): \n",
    "#     indexInDataSet = numberToTrain + index\n",
    "#     if (y_test[indexInDataSet] == testResults[index]):\n",
    "#         correctData = correctData.append(orginalData.loc[indexInDataSet]);\n",
    "#     else:\n",
    "#         incorrectData = incorrectData.append(orginalData.loc[indexInDataSet]);\n"
   ]
  },
  {
   "cell_type": "code",
   "execution_count": null,
   "metadata": {},
   "outputs": [],
   "source": [
    "# len(correct)/ (len(correct) + len(wrong))"
   ]
  },
  {
   "cell_type": "code",
   "execution_count": null,
   "metadata": {},
   "outputs": [],
   "source": [
    "# correctData.to_csv(\"../input/correct.csv\");\n",
    "# incorrectData.to_csv(\"../input/incorrect.csv\");\n"
   ]
  },
  {
   "cell_type": "code",
   "execution_count": null,
   "metadata": {},
   "outputs": [],
   "source": [
    "    # print(testData.tail(1).review)\n",
    "    # print(orginalData.tail(1).review)"
   ]
  },
  {
   "cell_type": "code",
   "execution_count": null,
   "metadata": {},
   "outputs": [],
   "source": [
    "##"
   ]
  }
 ],
 "metadata": {
  "kernelspec": {
   "display_name": "Python 3 (ipykernel)",
   "language": "python",
   "name": "python3"
  },
  "language_info": {
   "codemirror_mode": {
    "name": "ipython",
    "version": 3
   },
   "file_extension": ".py",
   "mimetype": "text/x-python",
   "name": "python",
   "nbconvert_exporter": "python",
   "pygments_lexer": "ipython3",
   "version": "3.10.4"
  },
  "vscode": {
   "interpreter": {
    "hash": "8dc3eafe1b0ac348fa60c3f2fd57ab4c4183a188f28f3536c13d39268a6fd935"
   }
  }
 },
 "nbformat": 4,
 "nbformat_minor": 4
}
