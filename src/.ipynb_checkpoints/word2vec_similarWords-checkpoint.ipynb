{
 "cells": [
  {
   "cell_type": "code",
   "execution_count": 1,
   "id": "e1a5506e-1104-4c71-9c6d-017b33ebf5d5",
   "metadata": {},
   "outputs": [],
   "source": [
    "import gensim\n",
    "import pandas as pd\n",
    "import numpy as np\n",
    "from collections import defaultdict\n",
    "from classify import experiment_train_test\n",
    "\n",
    "import warnings\n",
    "warnings.filterwarnings(\"ignore\")"
   ]
  },
  {
   "cell_type": "code",
   "execution_count": 2,
   "id": "21442020-1e39-436c-bc5c-4cfa0a4fc251",
   "metadata": {},
   "outputs": [],
   "source": [
    "# load train data\n",
    "df = pd.read_csv(\"../input/cleanseDAta.csv\")"
   ]
  },
  {
   "cell_type": "code",
   "execution_count": 3,
   "id": "59aaa65a-e2ed-4bc1-b231-7d9afd9b50fe",
   "metadata": {},
   "outputs": [
    {
     "data": {
      "text/html": [
       "<div>\n",
       "<style scoped>\n",
       "    .dataframe tbody tr th:only-of-type {\n",
       "        vertical-align: middle;\n",
       "    }\n",
       "\n",
       "    .dataframe tbody tr th {\n",
       "        vertical-align: top;\n",
       "    }\n",
       "\n",
       "    .dataframe thead th {\n",
       "        text-align: right;\n",
       "    }\n",
       "</style>\n",
       "<table border=\"1\" class=\"dataframe\">\n",
       "  <thead>\n",
       "    <tr style=\"text-align: right;\">\n",
       "      <th></th>\n",
       "      <th>Unnamed: 0</th>\n",
       "      <th>review</th>\n",
       "      <th>sentiment</th>\n",
       "    </tr>\n",
       "  </thead>\n",
       "  <tbody>\n",
       "    <tr>\n",
       "      <th>0</th>\n",
       "      <td>0</td>\n",
       "      <td>one reviewer mention watch oz episode hook rig...</td>\n",
       "      <td>positive</td>\n",
       "    </tr>\n",
       "    <tr>\n",
       "      <th>1</th>\n",
       "      <td>1</td>\n",
       "      <td>wonderful little production film technique una...</td>\n",
       "      <td>positive</td>\n",
       "    </tr>\n",
       "    <tr>\n",
       "      <th>2</th>\n",
       "      <td>2</td>\n",
       "      <td>think wonderful way spend time hot summer week...</td>\n",
       "      <td>positive</td>\n",
       "    </tr>\n",
       "    <tr>\n",
       "      <th>3</th>\n",
       "      <td>3</td>\n",
       "      <td>basically family little boy jake think zombie ...</td>\n",
       "      <td>negative</td>\n",
       "    </tr>\n",
       "    <tr>\n",
       "      <th>4</th>\n",
       "      <td>4</td>\n",
       "      <td>petter mattei love time money visually stunnin...</td>\n",
       "      <td>positive</td>\n",
       "    </tr>\n",
       "  </tbody>\n",
       "</table>\n",
       "</div>"
      ],
      "text/plain": [
       "   Unnamed: 0                                             review sentiment\n",
       "0           0  one reviewer mention watch oz episode hook rig...  positive\n",
       "1           1  wonderful little production film technique una...  positive\n",
       "2           2  think wonderful way spend time hot summer week...  positive\n",
       "3           3  basically family little boy jake think zombie ...  negative\n",
       "4           4  petter mattei love time money visually stunnin...  positive"
      ]
     },
     "execution_count": 3,
     "metadata": {},
     "output_type": "execute_result"
    }
   ],
   "source": [
    "df.head()"
   ]
  },
  {
   "cell_type": "code",
   "execution_count": 4,
   "id": "50a4b722-94c5-40ce-935a-60abfa0d3a6c",
   "metadata": {},
   "outputs": [
    {
     "data": {
      "text/plain": [
       "0        [one, reviewer, mention, watch, oz, episode, h...\n",
       "1        [wonderful, little, production, film, techniqu...\n",
       "2        [think, wonderful, way, spend, time, hot, summ...\n",
       "3        [basically, family, little, boy, jake, think, ...\n",
       "4        [petter, mattei, love, time, money, visually, ...\n",
       "                               ...                        \n",
       "49995    [think, movie, right, good, job, creative, ori...\n",
       "49996    [bad, plot, bad, dialogue, bad, act, idiotic, ...\n",
       "49997    [catholic, teach, parochial, elementary, schoo...\n",
       "49998    [go, disagree, previous, comment, side, maltin...\n",
       "49999    [one, expect, star, trek, movie, high, art, fa...\n",
       "Name: review, Length: 50000, dtype: object"
      ]
     },
     "execution_count": 4,
     "metadata": {},
     "output_type": "execute_result"
    }
   ],
   "source": [
    "review_text = df['review'].apply(gensim.utils.simple_preprocess)\n",
    "review_text"
   ]
  },
  {
   "cell_type": "code",
   "execution_count": 5,
   "id": "12cbc2c9-19d5-4a98-87a5-ebe010865593",
   "metadata": {},
   "outputs": [],
   "source": [
    "model = gensim.models.Word2Vec(\n",
    "    window = 10,\n",
    "    min_count = 2\n",
    ")"
   ]
  },
  {
   "cell_type": "code",
   "execution_count": 6,
   "id": "a9ae11d4-6ef2-4d64-91ee-b209a9e02a1d",
   "metadata": {},
   "outputs": [],
   "source": [
    "model.build_vocab(review_text, progress_per = 1000)"
   ]
  },
  {
   "cell_type": "code",
   "execution_count": 7,
   "id": "d9b00416-70ca-4717-80c3-39b66e202297",
   "metadata": {},
   "outputs": [
    {
     "data": {
      "text/plain": [
       "5"
      ]
     },
     "execution_count": 7,
     "metadata": {},
     "output_type": "execute_result"
    }
   ],
   "source": [
    "model.epochs"
   ]
  },
  {
   "cell_type": "code",
   "execution_count": 8,
   "id": "7aa0eb98-e786-4db1-a010-db9e4d787b81",
   "metadata": {},
   "outputs": [
    {
     "data": {
      "text/plain": [
       "50000"
      ]
     },
     "execution_count": 8,
     "metadata": {},
     "output_type": "execute_result"
    }
   ],
   "source": [
    "model.corpus_count"
   ]
  },
  {
   "cell_type": "code",
   "execution_count": 9,
   "id": "744a5bb0-4a93-4cd2-8dfb-65e9a1297603",
   "metadata": {},
   "outputs": [
    {
     "data": {
      "text/plain": [
       "(4349551, 4983210)"
      ]
     },
     "execution_count": 9,
     "metadata": {},
     "output_type": "execute_result"
    }
   ],
   "source": [
    "model.train(review_text, total_examples = model.corpus_count, epochs = model.epochs)"
   ]
  },
  {
   "cell_type": "code",
   "execution_count": 10,
   "id": "f1a893a9-a1d6-41f7-916c-b8e583f6365c",
   "metadata": {},
   "outputs": [
    {
     "data": {
      "text/plain": [
       "[('potential', 0.7750345468521118),\n",
       " ('cool', 0.773560643196106),\n",
       " ('decent', 0.7646334171295166),\n",
       " ('watchable', 0.7335750460624695),\n",
       " ('nice', 0.7304697036743164),\n",
       " ('awesome', 0.7295604944229126),\n",
       " ('basically', 0.7284102439880371),\n",
       " ('liked', 0.7259632349014282),\n",
       " ('transvestite', 0.7224704623222351),\n",
       " ('redo', 0.720148503780365)]"
      ]
     },
     "execution_count": 10,
     "metadata": {},
     "output_type": "execute_result"
    }
   ],
   "source": [
    "model.wv.similar_by_word(\"good\")"
   ]
  },
  {
   "cell_type": "code",
   "execution_count": 11,
   "id": "b30d83b0-228b-43e2-9987-9f4760bf510c",
   "metadata": {},
   "outputs": [
    {
     "data": {
      "text/plain": [
       "[('horrible', 0.87403404712677),\n",
       " ('terrible', 0.8423776030540466),\n",
       " ('awful', 0.8295862078666687),\n",
       " ('crappy', 0.8288018107414246),\n",
       " ('ridiculous', 0.8267092704772949),\n",
       " ('worse', 0.8262853622436523),\n",
       " ('stupid', 0.8057936429977417),\n",
       " ('suck', 0.8006871342658997),\n",
       " ('boring', 0.793814480304718),\n",
       " ('worst', 0.792453944683075)]"
      ]
     },
     "execution_count": 11,
     "metadata": {},
     "output_type": "execute_result"
    }
   ],
   "source": [
    "model.wv.similar_by_word(\"bad\")"
   ]
  },
  {
   "cell_type": "code",
   "execution_count": 12,
   "id": "80f3f1ce-0cee-4e4c-a36c-ca67de8abfb6",
   "metadata": {},
   "outputs": [
    {
     "data": {
      "text/plain": [
       "[('watchable', 0.9083331823348999),\n",
       " ('standard', 0.8874742388725281),\n",
       " ('fair', 0.8754882216453552),\n",
       " ('mediocre', 0.8603795766830444),\n",
       " ('campy', 0.8595117330551147),\n",
       " ('extremely', 0.8574910163879395),\n",
       " ('cheesy', 0.8492390513420105),\n",
       " ('overall', 0.848595142364502),\n",
       " ('decent', 0.8465703129768372),\n",
       " ('rat', 0.8464301228523254)]"
      ]
     },
     "execution_count": 12,
     "metadata": {},
     "output_type": "execute_result"
    }
   ],
   "source": [
    "model.wv.similar_by_word(\"average\")"
   ]
  },
  {
   "cell_type": "code",
   "execution_count": null,
   "id": "24e20674-cc37-4487-98e2-e41d29626fc7",
   "metadata": {},
   "outputs": [],
   "source": []
  }
 ],
 "metadata": {
  "kernelspec": {
   "display_name": "Python 3 (ipykernel)",
   "language": "python",
   "name": "python3"
  },
  "language_info": {
   "codemirror_mode": {
    "name": "ipython",
    "version": 3
   },
   "file_extension": ".py",
   "mimetype": "text/x-python",
   "name": "python",
   "nbconvert_exporter": "python",
   "pygments_lexer": "ipython3",
   "version": "3.10.4"
  }
 },
 "nbformat": 4,
 "nbformat_minor": 5
}
