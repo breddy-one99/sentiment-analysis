{
 "cells": [
  {
   "cell_type": "code",
   "execution_count": 1,
   "id": "002e776e-968c-4441-9df0-3b3503c6334b",
   "metadata": {},
   "outputs": [],
   "source": [
    "import gensim\n",
    "import pandas as pd\n",
    "import numpy as np\n",
    "from collections import defaultdict\n",
    "from classify import experiment_train_test\n",
    "\n",
    "import warnings\n",
    "warnings.filterwarnings(\"ignore\")"
   ]
  },
  {
   "cell_type": "code",
   "execution_count": 2,
   "id": "06a3c93c-48e1-4f10-8359-b05c794865bf",
   "metadata": {},
   "outputs": [],
   "source": [
    "# load train data\n",
    "df = pd.read_csv(\"../input/cleanseDAta.csv\")"
   ]
  },
  {
   "cell_type": "code",
   "execution_count": 3,
   "id": "1be330bf-2edd-4aef-af57-21531bd31178",
   "metadata": {},
   "outputs": [
    {
     "data": {
      "text/html": [
       "<div>\n",
       "<style scoped>\n",
       "    .dataframe tbody tr th:only-of-type {\n",
       "        vertical-align: middle;\n",
       "    }\n",
       "\n",
       "    .dataframe tbody tr th {\n",
       "        vertical-align: top;\n",
       "    }\n",
       "\n",
       "    .dataframe thead th {\n",
       "        text-align: right;\n",
       "    }\n",
       "</style>\n",
       "<table border=\"1\" class=\"dataframe\">\n",
       "  <thead>\n",
       "    <tr style=\"text-align: right;\">\n",
       "      <th></th>\n",
       "      <th>Unnamed: 0</th>\n",
       "      <th>review</th>\n",
       "      <th>sentiment</th>\n",
       "    </tr>\n",
       "  </thead>\n",
       "  <tbody>\n",
       "    <tr>\n",
       "      <th>0</th>\n",
       "      <td>0</td>\n",
       "      <td>one reviewer mention watch oz episode hook rig...</td>\n",
       "      <td>positive</td>\n",
       "    </tr>\n",
       "    <tr>\n",
       "      <th>1</th>\n",
       "      <td>1</td>\n",
       "      <td>wonderful little production film technique una...</td>\n",
       "      <td>positive</td>\n",
       "    </tr>\n",
       "    <tr>\n",
       "      <th>2</th>\n",
       "      <td>2</td>\n",
       "      <td>think wonderful way spend time hot summer week...</td>\n",
       "      <td>positive</td>\n",
       "    </tr>\n",
       "    <tr>\n",
       "      <th>3</th>\n",
       "      <td>3</td>\n",
       "      <td>basically family little boy jake think zombie ...</td>\n",
       "      <td>negative</td>\n",
       "    </tr>\n",
       "    <tr>\n",
       "      <th>4</th>\n",
       "      <td>4</td>\n",
       "      <td>petter mattei love time money visually stunnin...</td>\n",
       "      <td>positive</td>\n",
       "    </tr>\n",
       "  </tbody>\n",
       "</table>\n",
       "</div>"
      ],
      "text/plain": [
       "   Unnamed: 0                                             review sentiment\n",
       "0           0  one reviewer mention watch oz episode hook rig...  positive\n",
       "1           1  wonderful little production film technique una...  positive\n",
       "2           2  think wonderful way spend time hot summer week...  positive\n",
       "3           3  basically family little boy jake think zombie ...  negative\n",
       "4           4  petter mattei love time money visually stunnin...  positive"
      ]
     },
     "execution_count": 3,
     "metadata": {},
     "output_type": "execute_result"
    }
   ],
   "source": [
    "df.head()"
   ]
  },
  {
   "cell_type": "code",
   "execution_count": 4,
   "id": "545bc7a1-c03d-4805-b3bb-36d783c2bee9",
   "metadata": {},
   "outputs": [],
   "source": [
    "# I couldn't figure out why it was working for pretrained data and not the one which I trained\n",
    "\n",
    "import gensim.downloader as api\n",
    "\n",
    "wv = api.load('glove-twitter-100')"
   ]
  },
  {
   "cell_type": "code",
   "execution_count": 7,
   "id": "76c55744-6b79-4ff4-9ac3-cd03dcec4666",
   "metadata": {},
   "outputs": [],
   "source": [
    "def review_vec(review):\n",
    "    vector_size = wv.vector_size\n",
    "    wv_res = np.zeros(vector_size)\n",
    "    count = 1\n",
    "    for w in review:\n",
    "        if w in wv:\n",
    "            count += 1\n",
    "            wv_res += wv[w]\n",
    "    wv_res = wv_res / count\n",
    "    return wv_res"
   ]
  },
  {
   "cell_type": "code",
   "execution_count": 9,
   "id": "f45835fc-7f00-4e4e-b1a6-c7cd36e52176",
   "metadata": {},
   "outputs": [],
   "source": [
    "df['review_'] = df['review'].apply(gensim.utils.simple_preprocess)"
   ]
  },
  {
   "cell_type": "code",
   "execution_count": 10,
   "id": "c9119b65-ec63-4ff0-b8b5-c57196c4c90d",
   "metadata": {},
   "outputs": [
    {
     "data": {
      "text/html": [
       "<div>\n",
       "<style scoped>\n",
       "    .dataframe tbody tr th:only-of-type {\n",
       "        vertical-align: middle;\n",
       "    }\n",
       "\n",
       "    .dataframe tbody tr th {\n",
       "        vertical-align: top;\n",
       "    }\n",
       "\n",
       "    .dataframe thead th {\n",
       "        text-align: right;\n",
       "    }\n",
       "</style>\n",
       "<table border=\"1\" class=\"dataframe\">\n",
       "  <thead>\n",
       "    <tr style=\"text-align: right;\">\n",
       "      <th></th>\n",
       "      <th>Unnamed: 0</th>\n",
       "      <th>review</th>\n",
       "      <th>sentiment</th>\n",
       "      <th>review_</th>\n",
       "    </tr>\n",
       "  </thead>\n",
       "  <tbody>\n",
       "    <tr>\n",
       "      <th>0</th>\n",
       "      <td>0</td>\n",
       "      <td>one reviewer mention watch oz episode hook rig...</td>\n",
       "      <td>positive</td>\n",
       "      <td>[one, reviewer, mention, watch, oz, episode, h...</td>\n",
       "    </tr>\n",
       "    <tr>\n",
       "      <th>1</th>\n",
       "      <td>1</td>\n",
       "      <td>wonderful little production film technique una...</td>\n",
       "      <td>positive</td>\n",
       "      <td>[wonderful, little, production, film, techniqu...</td>\n",
       "    </tr>\n",
       "    <tr>\n",
       "      <th>2</th>\n",
       "      <td>2</td>\n",
       "      <td>think wonderful way spend time hot summer week...</td>\n",
       "      <td>positive</td>\n",
       "      <td>[think, wonderful, way, spend, time, hot, summ...</td>\n",
       "    </tr>\n",
       "    <tr>\n",
       "      <th>3</th>\n",
       "      <td>3</td>\n",
       "      <td>basically family little boy jake think zombie ...</td>\n",
       "      <td>negative</td>\n",
       "      <td>[basically, family, little, boy, jake, think, ...</td>\n",
       "    </tr>\n",
       "    <tr>\n",
       "      <th>4</th>\n",
       "      <td>4</td>\n",
       "      <td>petter mattei love time money visually stunnin...</td>\n",
       "      <td>positive</td>\n",
       "      <td>[petter, mattei, love, time, money, visually, ...</td>\n",
       "    </tr>\n",
       "  </tbody>\n",
       "</table>\n",
       "</div>"
      ],
      "text/plain": [
       "   Unnamed: 0                                             review sentiment  \\\n",
       "0           0  one reviewer mention watch oz episode hook rig...  positive   \n",
       "1           1  wonderful little production film technique una...  positive   \n",
       "2           2  think wonderful way spend time hot summer week...  positive   \n",
       "3           3  basically family little boy jake think zombie ...  negative   \n",
       "4           4  petter mattei love time money visually stunnin...  positive   \n",
       "\n",
       "                                             review_  \n",
       "0  [one, reviewer, mention, watch, oz, episode, h...  \n",
       "1  [wonderful, little, production, film, techniqu...  \n",
       "2  [think, wonderful, way, spend, time, hot, summ...  \n",
       "3  [basically, family, little, boy, jake, think, ...  \n",
       "4  [petter, mattei, love, time, money, visually, ...  "
      ]
     },
     "execution_count": 10,
     "metadata": {},
     "output_type": "execute_result"
    }
   ],
   "source": [
    "df.head()"
   ]
  },
  {
   "cell_type": "code",
   "execution_count": 11,
   "id": "8d9de064-6065-4b39-b4f0-6edd2f022c3c",
   "metadata": {},
   "outputs": [],
   "source": [
    "df['rvec'] = df['review_'].apply(review_vec)"
   ]
  },
  {
   "cell_type": "code",
   "execution_count": 12,
   "id": "2a87bfaf-f6a7-468b-a3b4-f1f7ae962dad",
   "metadata": {},
   "outputs": [
    {
     "data": {
      "text/html": [
       "<div>\n",
       "<style scoped>\n",
       "    .dataframe tbody tr th:only-of-type {\n",
       "        vertical-align: middle;\n",
       "    }\n",
       "\n",
       "    .dataframe tbody tr th {\n",
       "        vertical-align: top;\n",
       "    }\n",
       "\n",
       "    .dataframe thead th {\n",
       "        text-align: right;\n",
       "    }\n",
       "</style>\n",
       "<table border=\"1\" class=\"dataframe\">\n",
       "  <thead>\n",
       "    <tr style=\"text-align: right;\">\n",
       "      <th></th>\n",
       "      <th>Unnamed: 0</th>\n",
       "      <th>review</th>\n",
       "      <th>sentiment</th>\n",
       "      <th>review_</th>\n",
       "      <th>rvec</th>\n",
       "    </tr>\n",
       "  </thead>\n",
       "  <tbody>\n",
       "    <tr>\n",
       "      <th>0</th>\n",
       "      <td>0</td>\n",
       "      <td>one reviewer mention watch oz episode hook rig...</td>\n",
       "      <td>positive</td>\n",
       "      <td>[one, reviewer, mention, watch, oz, episode, h...</td>\n",
       "      <td>[0.1393422601256697, 0.047620350849770364, -0....</td>\n",
       "    </tr>\n",
       "    <tr>\n",
       "      <th>1</th>\n",
       "      <td>1</td>\n",
       "      <td>wonderful little production film technique una...</td>\n",
       "      <td>positive</td>\n",
       "      <td>[wonderful, little, production, film, techniqu...</td>\n",
       "      <td>[0.16146557441069967, -0.15833442986366295, 0....</td>\n",
       "    </tr>\n",
       "    <tr>\n",
       "      <th>2</th>\n",
       "      <td>2</td>\n",
       "      <td>think wonderful way spend time hot summer week...</td>\n",
       "      <td>positive</td>\n",
       "      <td>[think, wonderful, way, spend, time, hot, summ...</td>\n",
       "      <td>[-0.06501708436934721, 0.031096652948430607, 0...</td>\n",
       "    </tr>\n",
       "    <tr>\n",
       "      <th>3</th>\n",
       "      <td>3</td>\n",
       "      <td>basically family little boy jake think zombie ...</td>\n",
       "      <td>negative</td>\n",
       "      <td>[basically, family, little, boy, jake, think, ...</td>\n",
       "      <td>[0.1601498081526231, 0.07989171475526832, -0.0...</td>\n",
       "    </tr>\n",
       "    <tr>\n",
       "      <th>4</th>\n",
       "      <td>4</td>\n",
       "      <td>petter mattei love time money visually stunnin...</td>\n",
       "      <td>positive</td>\n",
       "      <td>[petter, mattei, love, time, money, visually, ...</td>\n",
       "      <td>[0.028575998506442244, 0.12349466740020684, 0....</td>\n",
       "    </tr>\n",
       "  </tbody>\n",
       "</table>\n",
       "</div>"
      ],
      "text/plain": [
       "   Unnamed: 0                                             review sentiment  \\\n",
       "0           0  one reviewer mention watch oz episode hook rig...  positive   \n",
       "1           1  wonderful little production film technique una...  positive   \n",
       "2           2  think wonderful way spend time hot summer week...  positive   \n",
       "3           3  basically family little boy jake think zombie ...  negative   \n",
       "4           4  petter mattei love time money visually stunnin...  positive   \n",
       "\n",
       "                                             review_  \\\n",
       "0  [one, reviewer, mention, watch, oz, episode, h...   \n",
       "1  [wonderful, little, production, film, techniqu...   \n",
       "2  [think, wonderful, way, spend, time, hot, summ...   \n",
       "3  [basically, family, little, boy, jake, think, ...   \n",
       "4  [petter, mattei, love, time, money, visually, ...   \n",
       "\n",
       "                                                rvec  \n",
       "0  [0.1393422601256697, 0.047620350849770364, -0....  \n",
       "1  [0.16146557441069967, -0.15833442986366295, 0....  \n",
       "2  [-0.06501708436934721, 0.031096652948430607, 0...  \n",
       "3  [0.1601498081526231, 0.07989171475526832, -0.0...  \n",
       "4  [0.028575998506442244, 0.12349466740020684, 0....  "
      ]
     },
     "execution_count": 12,
     "metadata": {},
     "output_type": "execute_result"
    }
   ],
   "source": [
    "df.head()"
   ]
  },
  {
   "cell_type": "code",
   "execution_count": 13,
   "id": "dd46db80-e8e8-4a78-9a10-3769d0c5629c",
   "metadata": {},
   "outputs": [
    {
     "data": {
      "text/plain": [
       "array([ 2.25504987e-02,  2.92397590e-01,  2.69427954e-01, -1.21774182e-01,\n",
       "       -2.11877274e-02,  2.71736182e-01,  3.24455998e-01, -1.46037819e-01,\n",
       "       -7.74033206e-02, -5.17772727e-02,  4.05507266e-02, -1.35997774e-01,\n",
       "       -3.83205913e+00,  1.94357744e-02,  1.69612728e-01, -5.35069128e-02,\n",
       "        1.11149842e-02, -1.28138077e-01, -2.72881832e-02,  4.56445495e-02,\n",
       "       -5.00354068e-02,  1.49132959e-01, -1.10092996e-04, -8.50658185e-02,\n",
       "       -1.62093172e-02, -1.15547504e-01, -9.59683646e-02, -1.04989315e-01,\n",
       "        8.16304518e-02, -1.19000680e-01, -9.09344825e-02, -4.80287292e-02,\n",
       "       -3.23294723e-01,  1.05838634e-01,  2.86735185e-01,  6.01419534e-02,\n",
       "        2.84420776e-01, -1.29222483e-01, -1.65474371e-01, -1.04291628e-01,\n",
       "       -5.15806367e-01, -9.38991403e-02, -6.67676801e-02,  6.57104982e-02,\n",
       "        3.50996817e-01,  1.10478136e-01,  1.00920637e-01, -1.43978457e-01,\n",
       "       -6.83072404e-03, -2.15129119e-02,  2.30571000e-02,  1.03445364e-01,\n",
       "       -1.59233463e-01,  2.62171412e-02,  1.73712543e-01,  6.75307498e-02,\n",
       "       -9.65171368e-02,  6.19375896e-02,  1.04764819e-01, -2.74672756e-01,\n",
       "       -2.93277874e-02,  1.85884076e-02,  1.31468956e-01, -6.80166356e-02,\n",
       "        1.75999178e-01,  4.37028601e-02, -1.15988898e-01, -2.34526306e-01,\n",
       "        9.13422776e-02,  2.25678725e-01,  1.02537088e-01,  1.04377366e-01,\n",
       "        5.88731376e-02,  2.18415812e-01,  2.84597047e-01, -1.25030464e-02,\n",
       "       -1.00098774e-01, -5.86793246e-02, -8.86866450e-02,  1.04793170e-01,\n",
       "        1.58117773e+00,  2.65179112e-02,  2.61613693e-03,  1.32426592e-01,\n",
       "        1.41607223e-01,  2.45317731e-01,  6.85507168e-02,  3.95368327e-03,\n",
       "       -2.07709036e-01, -8.49950029e-02, -6.70756797e-02,  3.22714053e-01,\n",
       "        1.11875955e-01, -1.56506589e-01, -8.96851854e-02, -1.65545437e-02,\n",
       "       -6.16142282e-02, -1.28135684e-01, -7.00682380e-02, -2.76522409e-01])"
      ]
     },
     "execution_count": 13,
     "metadata": {},
     "output_type": "execute_result"
    }
   ],
   "source": [
    "df['rvec'][7]"
   ]
  },
  {
   "cell_type": "code",
   "execution_count": 14,
   "id": "db2e6d13-ce04-4170-a96e-b195b4d20808",
   "metadata": {},
   "outputs": [],
   "source": [
    "input_path = \"../input/\"\n",
    "percentToTrain = 70\n",
    "numberToTrain = int(len(df)*(percentToTrain/100));\n",
    "trainingData = df.head(int(len(df)*(percentToTrain/100)))\n",
    "\n",
    "percentToTest = 100 - percentToTrain\n",
    "testData = df.tail(int(len(df) * (percentToTest/100)))"
   ]
  },
  {
   "cell_type": "code",
   "execution_count": 15,
   "id": "fa0d11fe-e284-49cb-a947-d8fd65e66b74",
   "metadata": {},
   "outputs": [
    {
     "data": {
      "text/plain": [
       "(35000, 5)"
      ]
     },
     "execution_count": 15,
     "metadata": {},
     "output_type": "execute_result"
    }
   ],
   "source": [
    "trainingData.shape"
   ]
  },
  {
   "cell_type": "code",
   "execution_count": 16,
   "id": "6357ecde-b9dd-4db1-81b5-67d2c198d528",
   "metadata": {},
   "outputs": [
    {
     "data": {
      "text/plain": [
       "(15000, 5)"
      ]
     },
     "execution_count": 16,
     "metadata": {},
     "output_type": "execute_result"
    }
   ],
   "source": [
    "testData.shape"
   ]
  },
  {
   "cell_type": "code",
   "execution_count": 17,
   "id": "73a7dfea-a7bb-4283-98ce-c248cd315a4c",
   "metadata": {},
   "outputs": [],
   "source": [
    "X_train = trainingData['rvec'].to_list()\n",
    "y_train = trainingData['sentiment'].to_list()"
   ]
  },
  {
   "cell_type": "code",
   "execution_count": 18,
   "id": "37068c50-6992-471b-b228-5d5868b15b39",
   "metadata": {},
   "outputs": [],
   "source": [
    "X_test = testData['rvec'].to_list()\n",
    "y_test = testData['sentiment'].to_list()"
   ]
  },
  {
   "cell_type": "code",
   "execution_count": 19,
   "id": "98c7932e-d5d8-4246-a3d5-1e2c5329a94b",
   "metadata": {},
   "outputs": [
    {
     "name": "stdout",
     "output_type": "stream",
     "text": [
      "LinearSVC()\n",
      "              precision    recall  f1-score   support\n",
      "\n",
      "    negative      0.733     0.713     0.723      7490\n",
      "    positive      0.721     0.741     0.731      7510\n",
      "\n",
      "    accuracy                          0.727     15000\n",
      "   macro avg      0.727     0.727     0.727     15000\n",
      "weighted avg      0.727     0.727     0.727     15000\n",
      "\n",
      "LogisticRegression(solver='liblinear')\n",
      "              precision    recall  f1-score   support\n",
      "\n",
      "    negative      0.732     0.716     0.724      7490\n",
      "    positive      0.723     0.738     0.731      7510\n",
      "\n",
      "    accuracy                          0.727     15000\n",
      "   macro avg      0.727     0.727     0.727     15000\n",
      "weighted avg      0.727     0.727     0.727     15000\n",
      "\n"
     ]
    },
    {
     "data": {
      "text/plain": [
       "defaultdict(None,\n",
       "            {'svm': {'model': LinearSVC(),\n",
       "              'score': 0.7269417949130037,\n",
       "              'predictions': array(['negative', 'negative', 'negative', ..., 'negative', 'negative',\n",
       "                     'negative'], dtype='<U8')},\n",
       "             'lr': {'model': LogisticRegression(solver='liblinear'),\n",
       "              'score': 0.727226949698218,\n",
       "              'predictions': array(['negative', 'negative', 'negative', ..., 'negative', 'negative',\n",
       "                     'negative'], dtype='<U8')}})"
      ]
     },
     "execution_count": 19,
     "metadata": {},
     "output_type": "execute_result"
    }
   ],
   "source": [
    "# train / test\n",
    "\n",
    "# removed naive bayes because it doesn't work for negative values\n",
    "models = ['svm', 'lr']\n",
    "results = defaultdict()\n",
    "\n",
    "for model in models:\n",
    "  results[model] = experiment_train_test(X_train=X_train,\n",
    "                                         y_train=y_train, \n",
    "                                         X_test=X_test, \n",
    "                                         y_test=y_test, \n",
    "                                         classifier=model,\n",
    "                                         verbose=True)\n",
    "results"
   ]
  },
  {
   "cell_type": "code",
   "execution_count": 20,
   "id": "1d1b684d-b825-42ea-8695-35fafd3d33be",
   "metadata": {},
   "outputs": [
    {
     "name": "stdout",
     "output_type": "stream",
     "text": [
      "svm:\t0.727\n",
      "lr:\t0.727\n"
     ]
    }
   ],
   "source": [
    "# f-1 scores\n",
    "for k,v in results.items():\n",
    "  print(f\"{k}:\\t{v['score']:.3f}\")"
   ]
  },
  {
   "cell_type": "code",
   "execution_count": null,
   "id": "4b4d351b-7933-4f2c-a09a-3708d76ed942",
   "metadata": {},
   "outputs": [],
   "source": []
  }
 ],
 "metadata": {
  "kernelspec": {
   "display_name": "Python 3 (ipykernel)",
   "language": "python",
   "name": "python3"
  },
  "language_info": {
   "codemirror_mode": {
    "name": "ipython",
    "version": 3
   },
   "file_extension": ".py",
   "mimetype": "text/x-python",
   "name": "python",
   "nbconvert_exporter": "python",
   "pygments_lexer": "ipython3",
   "version": "3.10.4"
  }
 },
 "nbformat": 4,
 "nbformat_minor": 5
}
