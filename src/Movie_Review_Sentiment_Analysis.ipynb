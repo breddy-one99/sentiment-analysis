{
 "cells": [
  {
   "cell_type": "code",
   "execution_count": 274,
   "id": "2e914ee2-b0f7-4468-b94a-a3d2055ef413",
   "metadata": {},
   "outputs": [],
   "source": [
    "import numpy as np\n",
    "import pandas as pd\n",
    "from matplotlib import pyplot as plt\n",
    "import re\n",
    "\n",
    "import warnings\n",
    "warnings.filterwarnings(\"ignore\")"
   ]
  },
  {
   "cell_type": "code",
   "execution_count": 275,
   "id": "3f4ce327-effa-4bb6-a88d-8011ee58d487",
   "metadata": {},
   "outputs": [],
   "source": [
    "df = pd.read_csv(\"../input/IMDB Dataset.csv\")"
   ]
  },
  {
   "cell_type": "code",
   "execution_count": 276,
   "id": "1fe1cc34-96f6-4e8e-a627-12fe91c2228b",
   "metadata": {},
   "outputs": [
    {
     "data": {
      "text/html": [
       "<div>\n",
       "<style scoped>\n",
       "    .dataframe tbody tr th:only-of-type {\n",
       "        vertical-align: middle;\n",
       "    }\n",
       "\n",
       "    .dataframe tbody tr th {\n",
       "        vertical-align: top;\n",
       "    }\n",
       "\n",
       "    .dataframe thead th {\n",
       "        text-align: right;\n",
       "    }\n",
       "</style>\n",
       "<table border=\"1\" class=\"dataframe\">\n",
       "  <thead>\n",
       "    <tr style=\"text-align: right;\">\n",
       "      <th></th>\n",
       "      <th>review</th>\n",
       "      <th>sentiment</th>\n",
       "    </tr>\n",
       "  </thead>\n",
       "  <tbody>\n",
       "    <tr>\n",
       "      <th>0</th>\n",
       "      <td>One of the other reviewers has mentioned that ...</td>\n",
       "      <td>positive</td>\n",
       "    </tr>\n",
       "    <tr>\n",
       "      <th>1</th>\n",
       "      <td>A wonderful little production. &lt;br /&gt;&lt;br /&gt;The...</td>\n",
       "      <td>positive</td>\n",
       "    </tr>\n",
       "    <tr>\n",
       "      <th>2</th>\n",
       "      <td>I thought this was a wonderful way to spend ti...</td>\n",
       "      <td>positive</td>\n",
       "    </tr>\n",
       "    <tr>\n",
       "      <th>3</th>\n",
       "      <td>Basically there's a family where a little boy ...</td>\n",
       "      <td>negative</td>\n",
       "    </tr>\n",
       "    <tr>\n",
       "      <th>4</th>\n",
       "      <td>Petter Mattei's \"Love in the Time of Money\" is...</td>\n",
       "      <td>positive</td>\n",
       "    </tr>\n",
       "  </tbody>\n",
       "</table>\n",
       "</div>"
      ],
      "text/plain": [
       "                                              review sentiment\n",
       "0  One of the other reviewers has mentioned that ...  positive\n",
       "1  A wonderful little production. <br /><br />The...  positive\n",
       "2  I thought this was a wonderful way to spend ti...  positive\n",
       "3  Basically there's a family where a little boy ...  negative\n",
       "4  Petter Mattei's \"Love in the Time of Money\" is...  positive"
      ]
     },
     "execution_count": 276,
     "metadata": {},
     "output_type": "execute_result"
    }
   ],
   "source": [
    "df.head()"
   ]
  },
  {
   "cell_type": "code",
   "execution_count": 277,
   "id": "d8433ea3-edd2-45e5-a440-8ef9f4170766",
   "metadata": {},
   "outputs": [
    {
     "data": {
      "text/html": [
       "<div>\n",
       "<style scoped>\n",
       "    .dataframe tbody tr th:only-of-type {\n",
       "        vertical-align: middle;\n",
       "    }\n",
       "\n",
       "    .dataframe tbody tr th {\n",
       "        vertical-align: top;\n",
       "    }\n",
       "\n",
       "    .dataframe thead th {\n",
       "        text-align: right;\n",
       "    }\n",
       "</style>\n",
       "<table border=\"1\" class=\"dataframe\">\n",
       "  <thead>\n",
       "    <tr style=\"text-align: right;\">\n",
       "      <th></th>\n",
       "      <th>review</th>\n",
       "      <th>sentiment</th>\n",
       "    </tr>\n",
       "  </thead>\n",
       "  <tbody>\n",
       "    <tr>\n",
       "      <th>49995</th>\n",
       "      <td>I thought this movie did a down right good job...</td>\n",
       "      <td>positive</td>\n",
       "    </tr>\n",
       "    <tr>\n",
       "      <th>49996</th>\n",
       "      <td>Bad plot, bad dialogue, bad acting, idiotic di...</td>\n",
       "      <td>negative</td>\n",
       "    </tr>\n",
       "    <tr>\n",
       "      <th>49997</th>\n",
       "      <td>I am a Catholic taught in parochial elementary...</td>\n",
       "      <td>negative</td>\n",
       "    </tr>\n",
       "    <tr>\n",
       "      <th>49998</th>\n",
       "      <td>I'm going to have to disagree with the previou...</td>\n",
       "      <td>negative</td>\n",
       "    </tr>\n",
       "    <tr>\n",
       "      <th>49999</th>\n",
       "      <td>No one expects the Star Trek movies to be high...</td>\n",
       "      <td>negative</td>\n",
       "    </tr>\n",
       "  </tbody>\n",
       "</table>\n",
       "</div>"
      ],
      "text/plain": [
       "                                                  review sentiment\n",
       "49995  I thought this movie did a down right good job...  positive\n",
       "49996  Bad plot, bad dialogue, bad acting, idiotic di...  negative\n",
       "49997  I am a Catholic taught in parochial elementary...  negative\n",
       "49998  I'm going to have to disagree with the previou...  negative\n",
       "49999  No one expects the Star Trek movies to be high...  negative"
      ]
     },
     "execution_count": 277,
     "metadata": {},
     "output_type": "execute_result"
    }
   ],
   "source": [
    "df.tail()"
   ]
  },
  {
   "cell_type": "code",
   "execution_count": 278,
   "id": "0f06c197-282b-4f19-907c-fd4a3f46d088",
   "metadata": {},
   "outputs": [
    {
     "data": {
      "text/plain": [
       "(50000, 2)"
      ]
     },
     "execution_count": 278,
     "metadata": {},
     "output_type": "execute_result"
    }
   ],
   "source": [
    "df.shape"
   ]
  },
  {
   "cell_type": "code",
   "execution_count": 279,
   "id": "12df4204-fe1e-4ccd-8d5e-420d851890d4",
   "metadata": {},
   "outputs": [
    {
     "data": {
      "text/plain": [
       "review       0\n",
       "sentiment    0\n",
       "dtype: int64"
      ]
     },
     "execution_count": 279,
     "metadata": {},
     "output_type": "execute_result"
    }
   ],
   "source": [
    "df.isnull().sum()"
   ]
  },
  {
   "cell_type": "code",
   "execution_count": 280,
   "id": "162aad76",
   "metadata": {},
   "outputs": [],
   "source": [
    "## Remove quotations"
   ]
  },
  {
   "cell_type": "code",
   "execution_count": 281,
   "id": "4e0a240e",
   "metadata": {},
   "outputs": [],
   "source": [
    "def remove_quotations(text): \n",
    "    cleanse = re.sub('\".*?\"', '', text);\n",
    "    if not cleanse:\n",
    "        return cleanse;\n",
    "    return cleanse;"
   ]
  },
  {
   "cell_type": "code",
   "execution_count": 282,
   "id": "b945616c",
   "metadata": {},
   "outputs": [
    {
     "data": {
      "text/plain": [
       "\", that's what the mother (the one of the title) says to his son when he tells her to get some rest (she's just widowed). He means that resting is what a woman of his age and in her situation has to do: to rest in peace, to neglect herself. But she's not in the mood for , not yet. She also has a daughter who reproaches her for each and every disasters in her life... Suddenly, the revelation comes: sex and passion in the figure of a muscular carpenter 30 years younger than her (Daniel Craig, the brand new James Bond) when she . It is a story that makes you reflect on many things, specially on what's a 60 something woman is supposed to do with her life when his husband dies. It doesn't look that we've advanced that such in those aspects. I mean, nobody's surprised when Sean Connery has a love affair in a movie with Catherine Zeta Jones... but what would you think if it was otherwise? An old woman, a young guy... nah, you ain't ready for that, are you?<br /><br />The movie has intimist tones all along its length, except for 2 or 3 sequences in which that tones breaks and out comes some explicit and foul-mouthed dialogs. Those vulgar touches and the way the son and the daughter find out their mother's love affair (pretty absurd -you'll know what I mean when you watch it-) are the only discordant elements in . <br /><br />*My rate: 7/10\""
      ]
     },
     "execution_count": 282,
     "metadata": {},
     "output_type": "execute_result"
    }
   ],
   "source": [
    "remove_quotations(df.review[49758])"
   ]
  },
  {
   "cell_type": "code",
   "execution_count": 283,
   "id": "8742e6c3",
   "metadata": {},
   "outputs": [
    {
     "data": {
      "text/plain": [
       "'\"Committed\" is all about Graham as an irrepressible optimist who goes in search of her self-estranged husband who has gone in search of himself which all leads to a sort of kookie, upbeat comedic odyssey involving a bunch of side characters and issues. A fresh, fun, and unpredictable little flick, what \"Committed\" lacks in story it makes up for in good naturedness and subtle morals and maxims. If you enjoy this little chick flick, which received slightly above average reviews by critics and public alike, you might want to check out Lisa Krueger\\'s hit Indie \"Manny & Lo\" (1996). (B)'"
      ]
     },
     "execution_count": 283,
     "metadata": {},
     "output_type": "execute_result"
    }
   ],
   "source": [
    "df.review[49829]"
   ]
  },
  {
   "cell_type": "code",
   "execution_count": 284,
   "id": "d4537de1",
   "metadata": {},
   "outputs": [],
   "source": [
    "## Remove parentheses"
   ]
  },
  {
   "cell_type": "code",
   "execution_count": 285,
   "id": "6e91ca12",
   "metadata": {},
   "outputs": [],
   "source": [
    "def remove_parentheses(text): \n",
    "    return re.sub('\\(.*?\\)', '', text)"
   ]
  },
  {
   "cell_type": "code",
   "execution_count": 286,
   "id": "5036946f",
   "metadata": {},
   "outputs": [
    {
     "data": {
      "text/plain": [
       "'I thought this was a wonderful way to spend time on a too hot summer weekend, sitting in the air conditioned theater and watching a light-hearted comedy. The plot is simplistic, but the dialogue is witty and the characters are likable . While some may be disappointed when they realize this is not Match Point 2: Risk Addiction, I thought it was proof that Woody Allen is still fully in control of the style many of us have grown to love.<br /><br />This was the most I\\'d laughed at one of Woody\\'s comedies in years . While I\\'ve never been impressed with Scarlet Johanson, in this she managed to tone down her \"sexy\" image and jumped right into a average, but spirited young woman.<br /><br />This may not be the crown jewel of his career, but it was wittier than \"Devil Wears Prada\" and more interesting than \"Superman\" a great comedy to go see with friends.'"
      ]
     },
     "execution_count": 286,
     "metadata": {},
     "output_type": "execute_result"
    }
   ],
   "source": [
    "remove_parentheses(df.review[2])"
   ]
  },
  {
   "cell_type": "code",
   "execution_count": 287,
   "id": "cba61d38",
   "metadata": {},
   "outputs": [],
   "source": [
    "## take x last words"
   ]
  },
  {
   "cell_type": "code",
   "execution_count": 288,
   "id": "f2915ca2",
   "metadata": {},
   "outputs": [],
   "source": [
    "numberOfWords = 20;\n",
    "def keep_x_last_word(text): \n",
    "    items = text.split(' ')\n",
    "    return ' '.join(items[len(items) -numberOfWords:])"
   ]
  },
  {
   "cell_type": "code",
   "execution_count": 289,
   "id": "ebac8c73",
   "metadata": {},
   "outputs": [
    {
     "data": {
      "text/plain": [
       "'it was wittier than \"Devil Wears Prada\" and more interesting than \"Superman\" a great comedy to go see with friends.'"
      ]
     },
     "execution_count": 289,
     "metadata": {},
     "output_type": "execute_result"
    }
   ],
   "source": [
    "keep_x_last_word(df.review[2])"
   ]
  },
  {
   "cell_type": "code",
   "execution_count": 290,
   "id": "93c14120",
   "metadata": {},
   "outputs": [],
   "source": [
    "## take x first words"
   ]
  },
  {
   "cell_type": "code",
   "execution_count": 291,
   "id": "3f20a8ce",
   "metadata": {},
   "outputs": [],
   "source": [
    "numberOfWords = 10;\n",
    "def keep_x_first_word(text): \n",
    "    return ' '.join(text.split(' ')[:numberOfWords])"
   ]
  },
  {
   "cell_type": "code",
   "execution_count": 292,
   "id": "234e8738",
   "metadata": {},
   "outputs": [
    {
     "data": {
      "text/plain": [
       "'I thought this was a wonderful way to spend time'"
      ]
     },
     "execution_count": 292,
     "metadata": {},
     "output_type": "execute_result"
    }
   ],
   "source": [
    "keep_x_first_word(df.review[2])"
   ]
  },
  {
   "cell_type": "code",
   "execution_count": 293,
   "id": "15c41651",
   "metadata": {},
   "outputs": [],
   "source": [
    "## Remove outer words"
   ]
  },
  {
   "cell_type": "code",
   "execution_count": 294,
   "id": "faedd275",
   "metadata": {},
   "outputs": [],
   "source": [
    "def keep_x_middle_words(text): \n",
    "    items = text.split(' ')\n",
    "    return ' '.join(items[numberOfWords: len(items) -numberOfWords])"
   ]
  },
  {
   "cell_type": "code",
   "execution_count": 295,
   "id": "946cacbb",
   "metadata": {},
   "outputs": [
    {
     "data": {
      "text/plain": [
       "'on a too hot summer weekend, sitting in the air conditioned theater and watching a light-hearted comedy. The plot is simplistic, but the dialogue is witty and the characters are likable (even the well bread suspected serial killer). While some may be disappointed when they realize this is not Match Point 2: Risk Addiction, I thought it was proof that Woody Allen is still fully in control of the style many of us have grown to love.<br /><br />This was the most I\\'d laughed at one of Woody\\'s comedies in years (dare I say a decade?). While I\\'ve never been impressed with Scarlet Johanson, in this she managed to tone down her \"sexy\" image and jumped right into a average, but spirited young woman.<br /><br />This may not be the crown jewel of his career, but it was wittier than \"Devil Wears Prada\" and more interesting'"
      ]
     },
     "execution_count": 295,
     "metadata": {},
     "output_type": "execute_result"
    }
   ],
   "source": [
    "keep_x_middle_words(df.review[2])"
   ]
  },
  {
   "cell_type": "code",
   "execution_count": 296,
   "id": "8d36d9ac",
   "metadata": {},
   "outputs": [],
   "source": [
    "## take x first words and last words"
   ]
  },
  {
   "cell_type": "code",
   "execution_count": 297,
   "id": "be5ad2b3",
   "metadata": {},
   "outputs": [
    {
     "data": {
      "text/plain": [
       "'I thought this was a wonderful way to spend time on a too hot summer weekend, sitting in the air conditioned theater and watching a light-hearted comedy. The plot is simplistic, but the dialogue is witty and the characters are likable (even the well bread suspected serial killer). While some may be disappointed when they realize this is not Match Point 2: Risk Addiction, I thought it was proof that Woody Allen is still fully in control of the style many of us have grown to love.<br /><br />This was the most I\\'d laughed at one of Woody\\'s comedies in years (dare I say a decade?). While I\\'ve never been impressed with Scarlet Johanson, in this she managed to tone down her \"sexy\" image and jumped right into a average, but spirited young woman.<br /><br />This may not be the crown jewel of his career, but it was wittier than \"Devil Wears Prada\" and more interesting than \"Superman\" a great comedy to go see with friends.'"
      ]
     },
     "execution_count": 297,
     "metadata": {},
     "output_type": "execute_result"
    }
   ],
   "source": [
    "df.review[2]"
   ]
  },
  {
   "cell_type": "code",
   "execution_count": 334,
   "id": "bf0d5130",
   "metadata": {},
   "outputs": [],
   "source": [
    "numberOfWords = 10;\n",
    "def keep_x_first_last_word(text): \n",
    "    items = text.split(' ')\n",
    "    return ' '.join(items[:numberOfWords]) + ' ' + text + ' '.join(items[len(items) -numberOfWords:])"
   ]
  },
  {
   "cell_type": "code",
   "execution_count": 335,
   "id": "3e1dbd1f",
   "metadata": {},
   "outputs": [
    {
     "data": {
      "text/plain": [
       "'condition theater watch light hearted comedy plot simplistic dialogue witty condition theater watch light hearted comedy plot simplistic dialogue witty character likable even well bread suspect serial killer may disappoint realize match point risk addiction think proof woody allen still fully control style many u grown love would laugh one woody comedies year dare say decade never impress scarlet johanson manage tone sexy image jump right average spirit young woman may crown jewel career wittierright average spirit young woman may crown jewel career wittier'"
      ]
     },
     "execution_count": 335,
     "metadata": {},
     "output_type": "execute_result"
    }
   ],
   "source": [
    "keep_x_first_last_word(df.review[2])"
   ]
  },
  {
   "cell_type": "markdown",
   "id": "abc79dbe-2322-48bd-9dd6-06d4977495a3",
   "metadata": {},
   "source": [
    "##### So, till now it is clear that our dataset contains 50,000 reviews which are either positive or negative. "
   ]
  },
  {
   "cell_type": "markdown",
   "id": "b955017b-51d6-4115-901a-6d048602002d",
   "metadata": {},
   "source": [
    "### First, we are applying prepocessing techniquies to a single movie review randomly taken from the dataset."
   ]
  },
  {
   "cell_type": "code",
   "execution_count": 300,
   "id": "2f604a1a-7a76-4762-8315-404d4e4ec1a3",
   "metadata": {},
   "outputs": [
    {
     "data": {
      "text/plain": [
       "'A wonderful little production. <br /><br />The filming technique is very unassuming- very old-time-BBC fashion and gives a comforting, and sometimes discomforting, sense of realism to the entire piece. <br /><br />The actors are extremely well chosen- Michael Sheen not only \"has got all the polari\" but he has all the voices down pat too! You can truly see the seamless editing guided by the references to Williams\\' diary entries, not only is it well worth the watching but it is a terrificly written and performed piece. A masterful production about one of the great master\\'s of comedy and his life. <br /><br />The realism really comes home with the little things: the fantasy of the guard which, rather than use the traditional \\'dream\\' techniques remains solid then disappears. It plays on our knowledge and our senses, particularly with the scenes concerning Orton and Halliwell and the sets (particularly of their flat with Halliwell\\'s murals decorating every surface) are terribly well done.'"
      ]
     },
     "execution_count": 300,
     "metadata": {},
     "output_type": "execute_result"
    }
   ],
   "source": [
    "review1 = df.review[1]\n",
    "review1"
   ]
  },
  {
   "cell_type": "markdown",
   "id": "12733aa6-1935-49b2-82f6-7c3c69424ced",
   "metadata": {},
   "source": [
    "### Part 1: Removing numbers/digits from the review"
   ]
  },
  {
   "cell_type": "code",
   "execution_count": 301,
   "id": "32f2a075-870a-4e0b-9550-34573a247046",
   "metadata": {},
   "outputs": [],
   "source": [
    "def remove_digits(text):\n",
    "    return re.sub('\\d+', '', text)"
   ]
  },
  {
   "cell_type": "code",
   "execution_count": 302,
   "id": "67967fd4-d1fe-4e03-aab1-3305bc202be4",
   "metadata": {},
   "outputs": [
    {
     "data": {
      "text/plain": [
       "'A wonderful little production. <br /><br />The filming technique is very unassuming- very old-time-BBC fashion and gives a comforting, and sometimes discomforting, sense of realism to the entire piece. <br /><br />The actors are extremely well chosen- Michael Sheen not only \"has got all the polari\" but he has all the voices down pat too! You can truly see the seamless editing guided by the references to Williams\\' diary entries, not only is it well worth the watching but it is a terrificly written and performed piece. A masterful production about one of the great master\\'s of comedy and his life. <br /><br />The realism really comes home with the little things: the fantasy of the guard which, rather than use the traditional \\'dream\\' techniques remains solid then disappears. It plays on our knowledge and our senses, particularly with the scenes concerning Orton and Halliwell and the sets (particularly of their flat with Halliwell\\'s murals decorating every surface) are terribly well done.'"
      ]
     },
     "execution_count": 302,
     "metadata": {},
     "output_type": "execute_result"
    }
   ],
   "source": [
    "review1 = remove_digits(review1)\n",
    "review1"
   ]
  },
  {
   "cell_type": "markdown",
   "id": "c670a7ac-202f-4b2d-8bef-adf44aedccf2",
   "metadata": {},
   "source": [
    "### Part 2: Converting all the text to lowercase (it seems this is a requirement for ML algos)"
   ]
  },
  {
   "cell_type": "code",
   "execution_count": 303,
   "id": "c7871e90-6f16-4582-974e-3c4d113436cc",
   "metadata": {},
   "outputs": [],
   "source": [
    "def change_to_lowercase(text):\n",
    "    return text.lower()"
   ]
  },
  {
   "cell_type": "code",
   "execution_count": 304,
   "id": "2fdd9734-5a03-428e-a1b8-92d2117fcf82",
   "metadata": {},
   "outputs": [
    {
     "data": {
      "text/plain": [
       "'a wonderful little production. <br /><br />the filming technique is very unassuming- very old-time-bbc fashion and gives a comforting, and sometimes discomforting, sense of realism to the entire piece. <br /><br />the actors are extremely well chosen- michael sheen not only \"has got all the polari\" but he has all the voices down pat too! you can truly see the seamless editing guided by the references to williams\\' diary entries, not only is it well worth the watching but it is a terrificly written and performed piece. a masterful production about one of the great master\\'s of comedy and his life. <br /><br />the realism really comes home with the little things: the fantasy of the guard which, rather than use the traditional \\'dream\\' techniques remains solid then disappears. it plays on our knowledge and our senses, particularly with the scenes concerning orton and halliwell and the sets (particularly of their flat with halliwell\\'s murals decorating every surface) are terribly well done.'"
      ]
     },
     "execution_count": 304,
     "metadata": {},
     "output_type": "execute_result"
    }
   ],
   "source": [
    "review1 = review1.lower()\n",
    "review1"
   ]
  },
  {
   "cell_type": "markdown",
   "id": "81653dfa-8521-4890-a307-c37fbfd7ebf5",
   "metadata": {},
   "source": [
    "### Part 3: Removing the HTML tags from the review"
   ]
  },
  {
   "cell_type": "code",
   "execution_count": 305,
   "id": "646c52e0-51a5-4310-aa2b-b67f142cef4e",
   "metadata": {},
   "outputs": [],
   "source": [
    "def remove_html_tags(text):\n",
    "    clean = re.compile('<.*?>')\n",
    "    return re.sub(clean, ' ', text);"
   ]
  },
  {
   "cell_type": "code",
   "execution_count": 306,
   "id": "0913928f-ef40-4f07-b932-5f80833f3ea5",
   "metadata": {},
   "outputs": [
    {
     "data": {
      "text/plain": [
       "'a wonderful little production.   the filming technique is very unassuming- very old-time-bbc fashion and gives a comforting, and sometimes discomforting, sense of realism to the entire piece.   the actors are extremely well chosen- michael sheen not only \"has got all the polari\" but he has all the voices down pat too! you can truly see the seamless editing guided by the references to williams\\' diary entries, not only is it well worth the watching but it is a terrificly written and performed piece. a masterful production about one of the great master\\'s of comedy and his life.   the realism really comes home with the little things: the fantasy of the guard which, rather than use the traditional \\'dream\\' techniques remains solid then disappears. it plays on our knowledge and our senses, particularly with the scenes concerning orton and halliwell and the sets (particularly of their flat with halliwell\\'s murals decorating every surface) are terribly well done.'"
      ]
     },
     "execution_count": 306,
     "metadata": {},
     "output_type": "execute_result"
    }
   ],
   "source": [
    "review1 = remove_html_tags(review1)\n",
    "review1"
   ]
  },
  {
   "cell_type": "markdown",
   "id": "805e0b5e-1d9b-4333-95a2-cc66a263e791",
   "metadata": {},
   "source": [
    "### Part 4: Removing any contractions"
   ]
  },
  {
   "cell_type": "code",
   "execution_count": 307,
   "id": "1506c34d-d6cf-4c38-b9cf-86ddea5de653",
   "metadata": {},
   "outputs": [],
   "source": [
    "import contractions\n",
    "\n",
    "def remove_contractions(text):\n",
    "    return contractions.fix(text)"
   ]
  },
  {
   "cell_type": "code",
   "execution_count": 308,
   "id": "576b13df-c493-44c7-bcff-28f51c840e81",
   "metadata": {},
   "outputs": [
    {
     "data": {
      "text/plain": [
       "'a wonderful little production.   the filming technique is very unassuming- very old-time-bbc fashion and gives a comforting, and sometimes discomforting, sense of realism to the entire piece.   the actors are extremely well chosen- michael sheen not only \"has got all the polari\" but he has all the voices down pat too! you can truly see the seamless editing guided by the references to williams\\' diary entries, not only is it well worth the watching but it is a terrificly written and performed piece. a masterful production about one of the great master\\'s of comedy and his life.   the realism really comes home with the little things: the fantasy of the guard which, rather than use the traditional \\'dream\\' techniques remains solid then disappears. it plays on our knowledge and our senses, particularly with the scenes concerning orton and halliwell and the sets (particularly of their flat with halliwell\\'s murals decorating every surface) are terribly well done.'"
      ]
     },
     "execution_count": 308,
     "metadata": {},
     "output_type": "execute_result"
    }
   ],
   "source": [
    "review1 = remove_contractions(review1)\n",
    "review1"
   ]
  },
  {
   "cell_type": "markdown",
   "id": "0f9cc76a-4585-4f5a-b82b-8a1cacce00f7",
   "metadata": {},
   "source": [
    "### Part 5: Removing punctuation from the review"
   ]
  },
  {
   "cell_type": "code",
   "execution_count": 309,
   "id": "cd1e63d2-a0c0-42c4-bab6-275eb1d4208d",
   "metadata": {},
   "outputs": [],
   "source": [
    "def remove_pun(text):\n",
    "    return re.sub(r'[^\\w\\s]', ' ', text)"
   ]
  },
  {
   "cell_type": "code",
   "execution_count": 310,
   "id": "50e85d4f-7701-4ea0-83f6-f31cf7e7936d",
   "metadata": {},
   "outputs": [
    {
     "data": {
      "text/plain": [
       "'a wonderful little production    the filming technique is very unassuming  very old time bbc fashion and gives a comforting  and sometimes discomforting  sense of realism to the entire piece    the actors are extremely well chosen  michael sheen not only  has got all the polari  but he has all the voices down pat too  you can truly see the seamless editing guided by the references to williams  diary entries  not only is it well worth the watching but it is a terrificly written and performed piece  a masterful production about one of the great master s of comedy and his life    the realism really comes home with the little things  the fantasy of the guard which  rather than use the traditional  dream  techniques remains solid then disappears  it plays on our knowledge and our senses  particularly with the scenes concerning orton and halliwell and the sets  particularly of their flat with halliwell s murals decorating every surface  are terribly well done '"
      ]
     },
     "execution_count": 310,
     "metadata": {},
     "output_type": "execute_result"
    }
   ],
   "source": [
    "review1 = remove_pun(review1)\n",
    "review1"
   ]
  },
  {
   "cell_type": "markdown",
   "id": "655c6318-d0d2-4f38-8b10-228fe0c78e8a",
   "metadata": {},
   "source": [
    "### Part 6: Removing any extra spaces created by removing punctuations"
   ]
  },
  {
   "cell_type": "code",
   "execution_count": 311,
   "id": "5333798f-550a-48ef-9673-703123bdffff",
   "metadata": {},
   "outputs": [],
   "source": [
    "def remove_spaces(text):\n",
    "    return re.sub(r'\\s+', ' ', text)"
   ]
  },
  {
   "cell_type": "code",
   "execution_count": 312,
   "id": "33eb8327-4c1c-4c50-ae26-6d4bb935ad6c",
   "metadata": {},
   "outputs": [
    {
     "data": {
      "text/plain": [
       "'a wonderful little production the filming technique is very unassuming very old time bbc fashion and gives a comforting and sometimes discomforting sense of realism to the entire piece the actors are extremely well chosen michael sheen not only has got all the polari but he has all the voices down pat too you can truly see the seamless editing guided by the references to williams diary entries not only is it well worth the watching but it is a terrificly written and performed piece a masterful production about one of the great master s of comedy and his life the realism really comes home with the little things the fantasy of the guard which rather than use the traditional dream techniques remains solid then disappears it plays on our knowledge and our senses particularly with the scenes concerning orton and halliwell and the sets particularly of their flat with halliwell s murals decorating every surface are terribly well done '"
      ]
     },
     "execution_count": 312,
     "metadata": {},
     "output_type": "execute_result"
    }
   ],
   "source": [
    "review1 = remove_spaces(review1)\n",
    "review1"
   ]
  },
  {
   "cell_type": "markdown",
   "id": "b82ed17c-ca9f-40c2-8786-6f903c252eef",
   "metadata": {},
   "source": [
    "### Part 7: Removing stopwords from the review"
   ]
  },
  {
   "cell_type": "code",
   "execution_count": 313,
   "id": "85cce1e3-56c9-4d0f-8e86-4a0da24ff451",
   "metadata": {},
   "outputs": [],
   "source": [
    "import nltk\n",
    "from nltk.corpus import stopwords"
   ]
  },
  {
   "cell_type": "code",
   "execution_count": 314,
   "id": "eb3265ec-8f76-4624-af55-492d5ead3c10",
   "metadata": {},
   "outputs": [
    {
     "name": "stderr",
     "output_type": "stream",
     "text": [
      "[nltk_data] Downloading package stopwords to\n",
      "[nltk_data]     C:\\Users\\meyer\\AppData\\Roaming\\nltk_data...\n",
      "[nltk_data]   Package stopwords is already up-to-date!\n",
      "[nltk_data] Downloading package wordnet to\n",
      "[nltk_data]     C:\\Users\\meyer\\AppData\\Roaming\\nltk_data...\n",
      "[nltk_data]   Package wordnet is already up-to-date!\n"
     ]
    }
   ],
   "source": [
    "nltk.download('stopwords')\n",
    "nltk.download('wordnet')\n",
    "stop_words = stopwords.words('english')"
   ]
  },
  {
   "cell_type": "code",
   "execution_count": 315,
   "id": "760ecf0f-289d-4b76-a271-eb891fcbfada",
   "metadata": {},
   "outputs": [],
   "source": [
    "def remove_stopwords(text):\n",
    "    text_ = ' '.join(word for word in text.split() if word not in stop_words)\n",
    "    return text_"
   ]
  },
  {
   "cell_type": "code",
   "execution_count": 316,
   "id": "fe3c3836-e7af-4a9f-8a9f-8de69aab19e7",
   "metadata": {},
   "outputs": [
    {
     "data": {
      "text/plain": [
       "'wonderful little production filming technique unassuming old time bbc fashion gives comforting sometimes discomforting sense realism entire piece actors extremely well chosen michael sheen got polari voices pat truly see seamless editing guided references williams diary entries well worth watching terrificly written performed piece masterful production one great master comedy life realism really comes home little things fantasy guard rather use traditional dream techniques remains solid disappears plays knowledge senses particularly scenes concerning orton halliwell sets particularly flat halliwell murals decorating every surface terribly well done'"
      ]
     },
     "execution_count": 316,
     "metadata": {},
     "output_type": "execute_result"
    }
   ],
   "source": [
    "review1 = remove_stopwords(review1)\n",
    "review1"
   ]
  },
  {
   "cell_type": "markdown",
   "id": "eb2553c9-c73e-4d22-9af8-8a352a2514fe",
   "metadata": {},
   "source": [
    "### Part 8: Applying lemmitization on the review"
   ]
  },
  {
   "cell_type": "code",
   "execution_count": 317,
   "id": "0fe8de9d-3b43-40fc-ae84-d4e94027a765",
   "metadata": {},
   "outputs": [],
   "source": [
    "from nltk.stem import WordNetLemmatizer\n",
    "\n",
    "lemmatizer = WordNetLemmatizer()"
   ]
  },
  {
   "cell_type": "code",
   "execution_count": 318,
   "id": "8985fbd7-3960-43c0-af66-52879471a188",
   "metadata": {},
   "outputs": [
    {
     "name": "stderr",
     "output_type": "stream",
     "text": [
      "[nltk_data] Downloading package punkt to\n",
      "[nltk_data]     C:\\Users\\meyer\\AppData\\Roaming\\nltk_data...\n",
      "[nltk_data]   Package punkt is already up-to-date!\n",
      "[nltk_data] Downloading package omw-1.4 to\n",
      "[nltk_data]     C:\\Users\\meyer\\AppData\\Roaming\\nltk_data...\n",
      "[nltk_data]   Package omw-1.4 is already up-to-date!\n",
      "[nltk_data] Downloading package averaged_perceptron_tagger to\n",
      "[nltk_data]     C:\\Users\\meyer\\AppData\\Roaming\\nltk_data...\n",
      "[nltk_data]   Package averaged_perceptron_tagger is already up-to-\n",
      "[nltk_data]       date!\n"
     ]
    },
    {
     "data": {
      "text/plain": [
       "True"
      ]
     },
     "execution_count": 318,
     "metadata": {},
     "output_type": "execute_result"
    }
   ],
   "source": [
    "nltk.download('punkt')\n",
    "nltk.download('omw-1.4')\n",
    "nltk.download('averaged_perceptron_tagger')"
   ]
  },
  {
   "cell_type": "code",
   "execution_count": 319,
   "id": "2b3ce5f6-0d4d-413c-874e-a89ab2fb2928",
   "metadata": {},
   "outputs": [],
   "source": [
    "from nltk.corpus import wordnet\n",
    "\n",
    "def get_wordnet_pos(treebank_tag):\n",
    "    if treebank_tag.startswith('J'):\n",
    "        return wordnet.ADJ\n",
    "    elif treebank_tag.startswith('V'):\n",
    "        return wordnet.VERB\n",
    "    elif treebank_tag.startswith('N'):\n",
    "        return wordnet.NOUN\n",
    "    elif treebank_tag.startswith('R'):\n",
    "        return wordnet.ADV\n",
    "    else: # As default pos in lemmatization is Noun\n",
    "        return wordnet.NOUN"
   ]
  },
  {
   "cell_type": "code",
   "execution_count": 320,
   "id": "91c13f61-441a-475b-97a3-194cf46b8f66",
   "metadata": {},
   "outputs": [],
   "source": [
    "def apply_lemmatization(text):\n",
    "    text_word_tag_list = nltk.pos_tag(nltk.word_tokenize(text))\n",
    "    text_ = ' '.join([lemmatizer.lemmatize(word, get_wordnet_pos(pos)) for (word, pos) in text_word_tag_list])\n",
    "    return text_"
   ]
  },
  {
   "cell_type": "code",
   "execution_count": 321,
   "id": "edea368b-ac17-49c0-a2a8-09db8a21be10",
   "metadata": {},
   "outputs": [
    {
     "data": {
      "text/plain": [
       "'wonderful little production film technique unassuming old time bbc fashion give comfort sometimes discomforting sense realism entire piece actor extremely well choose michael sheen get polari voice pat truly see seamless edit guided reference williams diary entry well worth watch terrificly write perform piece masterful production one great master comedy life realism really come home little thing fantasy guard rather use traditional dream technique remain solid disappears play knowledge sens particularly scene concern orton halliwell set particularly flat halliwell mural decorate every surface terribly well do'"
      ]
     },
     "execution_count": 321,
     "metadata": {},
     "output_type": "execute_result"
    }
   ],
   "source": [
    "review1 = apply_lemmatization(review1)\n",
    "review1"
   ]
  },
  {
   "cell_type": "markdown",
   "id": "8c55a045-bbac-4eb5-9efa-23133b6a83e3",
   "metadata": {},
   "source": [
    "### We see that the text processing steps work well and now we apply those to our entire dataset"
   ]
  },
  {
   "cell_type": "code",
   "execution_count": 322,
   "id": "dcdbeeea-9228-4650-9054-ceed79cc96be",
   "metadata": {},
   "outputs": [],
   "source": [
    "#df['review'] = df['review'].apply(remove_quotations)"
   ]
  },
  {
   "cell_type": "code",
   "execution_count": 323,
   "id": "7d8c360e",
   "metadata": {},
   "outputs": [],
   "source": [
    "#df['review'] = df['review'].apply(remove_parentheses)"
   ]
  },
  {
   "cell_type": "code",
   "execution_count": 336,
   "id": "b866fdaa",
   "metadata": {},
   "outputs": [],
   "source": [
    "df['review'] = df['review'].apply(remove_digits)"
   ]
  },
  {
   "cell_type": "code",
   "execution_count": 337,
   "id": "f8fdc8d9-e31d-4c58-a9cc-0ea07dca4448",
   "metadata": {},
   "outputs": [],
   "source": [
    "df['review'] = df['review'].apply(change_to_lowercase)"
   ]
  },
  {
   "cell_type": "code",
   "execution_count": 338,
   "id": "8fb01c1c-4e2c-4989-ae53-c89120d6a0aa",
   "metadata": {},
   "outputs": [],
   "source": [
    "df['review'] = df['review'].apply(remove_html_tags)"
   ]
  },
  {
   "cell_type": "code",
   "execution_count": 339,
   "id": "39bbe4c0-cafb-497a-9982-fa03a6894b31",
   "metadata": {},
   "outputs": [],
   "source": [
    "df['review'] = df['review'].apply(remove_contractions)"
   ]
  },
  {
   "cell_type": "code",
   "execution_count": 340,
   "id": "a13804e9-f548-400c-9623-8f87f8a24096",
   "metadata": {},
   "outputs": [],
   "source": [
    "df['review'] = df['review'].apply(remove_pun)"
   ]
  },
  {
   "cell_type": "code",
   "execution_count": 341,
   "id": "4a735c0c-6a94-4c21-b278-e160e9bcf5ec",
   "metadata": {},
   "outputs": [],
   "source": [
    "df['review'] = df['review'].apply(remove_spaces)"
   ]
  },
  {
   "cell_type": "code",
   "execution_count": 342,
   "id": "c522e813-0977-41c2-bf75-1061c026f39b",
   "metadata": {},
   "outputs": [],
   "source": [
    "df['review'] = df['review'].apply(remove_stopwords)"
   ]
  },
  {
   "cell_type": "code",
   "execution_count": 343,
   "id": "812f4bc9",
   "metadata": {},
   "outputs": [],
   "source": [
    "df['review'] = df['review'].apply(keep_x_first_last_word)"
   ]
  },
  {
   "cell_type": "code",
   "execution_count": null,
   "id": "8a17876e-6006-438e-9987-81f638881a94",
   "metadata": {},
   "outputs": [],
   "source": [
    "df['review'] = df['review'].apply(apply_lemmatization)"
   ]
  },
  {
   "cell_type": "code",
   "execution_count": null,
   "id": "10ae8aee",
   "metadata": {},
   "outputs": [],
   "source": [
    "df.to_csv(\"../input/cleanseDAta.csv\");"
   ]
  },
  {
   "cell_type": "code",
   "execution_count": null,
   "id": "96c8c1bd",
   "metadata": {},
   "outputs": [],
   "source": []
  }
 ],
 "metadata": {
  "kernelspec": {
   "display_name": "Python 3 (ipykernel)",
   "language": "python",
   "name": "python3"
  },
  "language_info": {
   "codemirror_mode": {
    "name": "ipython",
    "version": 3
   },
   "file_extension": ".py",
   "mimetype": "text/x-python",
   "name": "python",
   "nbconvert_exporter": "python",
   "pygments_lexer": "ipython3",
   "version": "3.9.1"
  }
 },
 "nbformat": 4,
 "nbformat_minor": 5
}
