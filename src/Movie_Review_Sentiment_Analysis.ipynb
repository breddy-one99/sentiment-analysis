{
 "cells": [
  {
   "cell_type": "code",
   "execution_count": 1,
   "id": "2e914ee2-b0f7-4468-b94a-a3d2055ef413",
   "metadata": {},
   "outputs": [],
   "source": [
    "import numpy as np\n",
    "import pandas as pd\n",
    "from matplotlib import pyplot as plt\n",
    "import re\n",
    "\n",
    "import warnings\n",
    "warnings.filterwarnings(\"ignore\")"
   ]
  },
  {
   "cell_type": "code",
   "execution_count": 2,
   "id": "3f4ce327-effa-4bb6-a88d-8011ee58d487",
   "metadata": {},
   "outputs": [],
   "source": [
    "df = pd.read_csv(\"../input/IMDB Dataset.csv\")"
   ]
  },
  {
   "cell_type": "code",
   "execution_count": 3,
   "id": "1fe1cc34-96f6-4e8e-a627-12fe91c2228b",
   "metadata": {},
   "outputs": [
    {
     "data": {
      "text/html": [
       "<div>\n",
       "<style scoped>\n",
       "    .dataframe tbody tr th:only-of-type {\n",
       "        vertical-align: middle;\n",
       "    }\n",
       "\n",
       "    .dataframe tbody tr th {\n",
       "        vertical-align: top;\n",
       "    }\n",
       "\n",
       "    .dataframe thead th {\n",
       "        text-align: right;\n",
       "    }\n",
       "</style>\n",
       "<table border=\"1\" class=\"dataframe\">\n",
       "  <thead>\n",
       "    <tr style=\"text-align: right;\">\n",
       "      <th></th>\n",
       "      <th>review</th>\n",
       "      <th>sentiment</th>\n",
       "    </tr>\n",
       "  </thead>\n",
       "  <tbody>\n",
       "    <tr>\n",
       "      <th>0</th>\n",
       "      <td>One of the other reviewers has mentioned that ...</td>\n",
       "      <td>positive</td>\n",
       "    </tr>\n",
       "    <tr>\n",
       "      <th>1</th>\n",
       "      <td>A wonderful little production. &lt;br /&gt;&lt;br /&gt;The...</td>\n",
       "      <td>positive</td>\n",
       "    </tr>\n",
       "    <tr>\n",
       "      <th>2</th>\n",
       "      <td>I thought this was a wonderful way to spend ti...</td>\n",
       "      <td>positive</td>\n",
       "    </tr>\n",
       "    <tr>\n",
       "      <th>3</th>\n",
       "      <td>Basically there's a family where a little boy ...</td>\n",
       "      <td>negative</td>\n",
       "    </tr>\n",
       "    <tr>\n",
       "      <th>4</th>\n",
       "      <td>Petter Mattei's \"Love in the Time of Money\" is...</td>\n",
       "      <td>positive</td>\n",
       "    </tr>\n",
       "  </tbody>\n",
       "</table>\n",
       "</div>"
      ],
      "text/plain": [
       "                                              review sentiment\n",
       "0  One of the other reviewers has mentioned that ...  positive\n",
       "1  A wonderful little production. <br /><br />The...  positive\n",
       "2  I thought this was a wonderful way to spend ti...  positive\n",
       "3  Basically there's a family where a little boy ...  negative\n",
       "4  Petter Mattei's \"Love in the Time of Money\" is...  positive"
      ]
     },
     "execution_count": 3,
     "metadata": {},
     "output_type": "execute_result"
    }
   ],
   "source": [
    "df.head()"
   ]
  },
  {
   "cell_type": "code",
   "execution_count": 4,
   "id": "d8433ea3-edd2-45e5-a440-8ef9f4170766",
   "metadata": {},
   "outputs": [
    {
     "data": {
      "text/html": [
       "<div>\n",
       "<style scoped>\n",
       "    .dataframe tbody tr th:only-of-type {\n",
       "        vertical-align: middle;\n",
       "    }\n",
       "\n",
       "    .dataframe tbody tr th {\n",
       "        vertical-align: top;\n",
       "    }\n",
       "\n",
       "    .dataframe thead th {\n",
       "        text-align: right;\n",
       "    }\n",
       "</style>\n",
       "<table border=\"1\" class=\"dataframe\">\n",
       "  <thead>\n",
       "    <tr style=\"text-align: right;\">\n",
       "      <th></th>\n",
       "      <th>review</th>\n",
       "      <th>sentiment</th>\n",
       "    </tr>\n",
       "  </thead>\n",
       "  <tbody>\n",
       "    <tr>\n",
       "      <th>49995</th>\n",
       "      <td>I thought this movie did a down right good job...</td>\n",
       "      <td>positive</td>\n",
       "    </tr>\n",
       "    <tr>\n",
       "      <th>49996</th>\n",
       "      <td>Bad plot, bad dialogue, bad acting, idiotic di...</td>\n",
       "      <td>negative</td>\n",
       "    </tr>\n",
       "    <tr>\n",
       "      <th>49997</th>\n",
       "      <td>I am a Catholic taught in parochial elementary...</td>\n",
       "      <td>negative</td>\n",
       "    </tr>\n",
       "    <tr>\n",
       "      <th>49998</th>\n",
       "      <td>I'm going to have to disagree with the previou...</td>\n",
       "      <td>negative</td>\n",
       "    </tr>\n",
       "    <tr>\n",
       "      <th>49999</th>\n",
       "      <td>No one expects the Star Trek movies to be high...</td>\n",
       "      <td>negative</td>\n",
       "    </tr>\n",
       "  </tbody>\n",
       "</table>\n",
       "</div>"
      ],
      "text/plain": [
       "                                                  review sentiment\n",
       "49995  I thought this movie did a down right good job...  positive\n",
       "49996  Bad plot, bad dialogue, bad acting, idiotic di...  negative\n",
       "49997  I am a Catholic taught in parochial elementary...  negative\n",
       "49998  I'm going to have to disagree with the previou...  negative\n",
       "49999  No one expects the Star Trek movies to be high...  negative"
      ]
     },
     "execution_count": 4,
     "metadata": {},
     "output_type": "execute_result"
    }
   ],
   "source": [
    "df.tail()"
   ]
  },
  {
   "cell_type": "code",
   "execution_count": 5,
   "id": "0f06c197-282b-4f19-907c-fd4a3f46d088",
   "metadata": {},
   "outputs": [
    {
     "data": {
      "text/plain": [
       "(50000, 2)"
      ]
     },
     "execution_count": 5,
     "metadata": {},
     "output_type": "execute_result"
    }
   ],
   "source": [
    "df.shape"
   ]
  },
  {
   "cell_type": "code",
   "execution_count": 6,
   "id": "12df4204-fe1e-4ccd-8d5e-420d851890d4",
   "metadata": {},
   "outputs": [
    {
     "data": {
      "text/plain": [
       "review       0\n",
       "sentiment    0\n",
       "dtype: int64"
      ]
     },
     "execution_count": 6,
     "metadata": {},
     "output_type": "execute_result"
    }
   ],
   "source": [
    "df.isnull().sum()"
   ]
  },
  {
   "cell_type": "code",
   "execution_count": 7,
   "id": "162aad76",
   "metadata": {},
   "outputs": [],
   "source": [
    "## Remove quotations"
   ]
  },
  {
   "cell_type": "code",
   "execution_count": 8,
   "id": "4e0a240e",
   "metadata": {},
   "outputs": [],
   "source": [
    "# def remove_quotations(text): \n",
    "#     cleanse = re.sub('\".*?\"', '', text);\n",
    "#     if not cleanse:\n",
    "#         return cleanse;\n",
    "#     return cleanse;"
   ]
  },
  {
   "cell_type": "code",
   "execution_count": 9,
   "id": "b945616c",
   "metadata": {},
   "outputs": [],
   "source": [
    "# remove_quotations(df.review[49758])"
   ]
  },
  {
   "cell_type": "code",
   "execution_count": 10,
   "id": "8742e6c3",
   "metadata": {},
   "outputs": [],
   "source": [
    "# df.review[49829]"
   ]
  },
  {
   "cell_type": "code",
   "execution_count": 11,
   "id": "d4537de1",
   "metadata": {},
   "outputs": [],
   "source": [
    "## Remove parentheses"
   ]
  },
  {
   "cell_type": "code",
   "execution_count": 12,
   "id": "6e91ca12",
   "metadata": {},
   "outputs": [],
   "source": [
    "# def remove_parentheses(text): \n",
    "#     return re.sub('\\(.*?\\)', '', text)"
   ]
  },
  {
   "cell_type": "code",
   "execution_count": null,
   "id": "5036946f",
   "metadata": {},
   "outputs": [],
   "source": [
    "# remove_parentheses(df.review[2])"
   ]
  },
  {
   "cell_type": "code",
   "execution_count": null,
   "id": "cba61d38",
   "metadata": {},
   "outputs": [],
   "source": [
    "## take x last words"
   ]
  },
  {
   "cell_type": "code",
   "execution_count": null,
   "id": "f2915ca2",
   "metadata": {},
   "outputs": [],
   "source": [
    "# numberOfWords = 20;\n",
    "# def keep_x_last_word(text): \n",
    "#     items = text.split(' ')\n",
    "#     return ' '.join(items[len(items) -numberOfWords:])"
   ]
  },
  {
   "cell_type": "code",
   "execution_count": null,
   "id": "ebac8c73",
   "metadata": {},
   "outputs": [],
   "source": [
    "# keep_x_last_word(df.review[2])"
   ]
  },
  {
   "cell_type": "code",
   "execution_count": null,
   "id": "93c14120",
   "metadata": {},
   "outputs": [],
   "source": [
    "## take x first words"
   ]
  },
  {
   "cell_type": "code",
   "execution_count": null,
   "id": "3f20a8ce",
   "metadata": {},
   "outputs": [],
   "source": [
    "# numberOfWords = 10;\n",
    "# def keep_x_first_word(text): \n",
    "#     return ' '.join(text.split(' ')[:numberOfWords])"
   ]
  },
  {
   "cell_type": "code",
   "execution_count": null,
   "id": "234e8738",
   "metadata": {},
   "outputs": [],
   "source": [
    "# keep_x_first_word(df.review[2])"
   ]
  },
  {
   "cell_type": "code",
   "execution_count": null,
   "id": "15c41651",
   "metadata": {},
   "outputs": [],
   "source": [
    "## Remove outer words"
   ]
  },
  {
   "cell_type": "code",
   "execution_count": null,
   "id": "faedd275",
   "metadata": {},
   "outputs": [],
   "source": [
    "# def keep_x_middle_words(text): \n",
    "#     items = text.split(' ')\n",
    "#     return ' '.join(items[numberOfWords: len(items) -numberOfWords])"
   ]
  },
  {
   "cell_type": "code",
   "execution_count": null,
   "id": "946cacbb",
   "metadata": {},
   "outputs": [],
   "source": [
    "# keep_x_middle_words(df.review[2])"
   ]
  },
  {
   "cell_type": "code",
   "execution_count": null,
   "id": "8d36d9ac",
   "metadata": {},
   "outputs": [],
   "source": [
    "## take x first words and last words"
   ]
  },
  {
   "cell_type": "code",
   "execution_count": null,
   "id": "be5ad2b3",
   "metadata": {},
   "outputs": [],
   "source": [
    "# df.review[2]"
   ]
  },
  {
   "cell_type": "code",
   "execution_count": null,
   "id": "bf0d5130",
   "metadata": {},
   "outputs": [],
   "source": [
    "# numberOfWords = 10;\n",
    "# def keep_x_first_last_word(text): \n",
    "#     items = text.split(' ')\n",
    "#     return ' '.join(items[:numberOfWords]) + ' ' + text + ' '.join(items[len(items)-numberOfWords:])"
   ]
  },
  {
   "cell_type": "code",
   "execution_count": null,
   "id": "3e1dbd1f",
   "metadata": {},
   "outputs": [],
   "source": [
    "# keep_x_first_last_word(df.review[2])"
   ]
  },
  {
   "cell_type": "markdown",
   "id": "abc79dbe-2322-48bd-9dd6-06d4977495a3",
   "metadata": {},
   "source": [
    "##### So, till now it is clear that our dataset contains 50,000 reviews which are either positive or negative. "
   ]
  },
  {
   "cell_type": "markdown",
   "id": "b955017b-51d6-4115-901a-6d048602002d",
   "metadata": {},
   "source": [
    "### First, we are applying prepocessing techniquies to a single movie review randomly taken from the dataset."
   ]
  },
  {
   "cell_type": "code",
   "execution_count": 8,
   "id": "2f604a1a-7a76-4762-8315-404d4e4ec1a3",
   "metadata": {},
   "outputs": [
    {
     "data": {
      "text/plain": [
       "\"Average (and surprisingly tame) Fulci giallo which means it's still quite bad by normal standards, but redeemed by its solid build-up and some nice touches such as a neat time twist on the issues of visions and clairvoyance.<br /><br />The genre's well-known weaknesses are in full gear: banal dialogue, wooden acting, illogical plot points. And the finale goes on much too long, while the denouement proves to be a rather lame or shall I say: limp affair.<br /><br />Fulci's ironic handling of giallo norms is amusing, though. Yellow clues wherever you look.<br /><br />3 out of 10 limping killers\""
      ]
     },
     "execution_count": 8,
     "metadata": {},
     "output_type": "execute_result"
    }
   ],
   "source": [
    "review1 = df.review[49]\n",
    "review1"
   ]
  },
  {
   "cell_type": "code",
   "execution_count": 9,
   "id": "7b4519f8-d28e-4377-98a9-ad42a93ef70a",
   "metadata": {},
   "outputs": [
    {
     "data": {
      "text/plain": [
       "'negative'"
      ]
     },
     "execution_count": 9,
     "metadata": {},
     "output_type": "execute_result"
    }
   ],
   "source": [
    "sentiment1 = df.sentiment[49]\n",
    "sentiment1"
   ]
  },
  {
   "cell_type": "markdown",
   "id": "12733aa6-1935-49b2-82f6-7c3c69424ced",
   "metadata": {},
   "source": [
    "### Part 1: Removing numbers/digits from the review"
   ]
  },
  {
   "cell_type": "code",
   "execution_count": 10,
   "id": "32f2a075-870a-4e0b-9550-34573a247046",
   "metadata": {},
   "outputs": [],
   "source": [
    "def remove_digits(text):\n",
    "    return re.sub('\\d+', '', text)"
   ]
  },
  {
   "cell_type": "code",
   "execution_count": 11,
   "id": "67967fd4-d1fe-4e03-aab1-3305bc202be4",
   "metadata": {},
   "outputs": [
    {
     "data": {
      "text/plain": [
       "\"Average (and surprisingly tame) Fulci giallo which means it's still quite bad by normal standards, but redeemed by its solid build-up and some nice touches such as a neat time twist on the issues of visions and clairvoyance.<br /><br />The genre's well-known weaknesses are in full gear: banal dialogue, wooden acting, illogical plot points. And the finale goes on much too long, while the denouement proves to be a rather lame or shall I say: limp affair.<br /><br />Fulci's ironic handling of giallo norms is amusing, though. Yellow clues wherever you look.<br /><br /> out of  limping killers\""
      ]
     },
     "execution_count": 11,
     "metadata": {},
     "output_type": "execute_result"
    }
   ],
   "source": [
    "review1 = remove_digits(review1)\n",
    "review1"
   ]
  },
  {
   "cell_type": "markdown",
   "id": "c670a7ac-202f-4b2d-8bef-adf44aedccf2",
   "metadata": {},
   "source": [
    "### Part 2: Converting all the text to lowercase (it seems this is a requirement for ML algos)"
   ]
  },
  {
   "cell_type": "code",
   "execution_count": 12,
   "id": "c7871e90-6f16-4582-974e-3c4d113436cc",
   "metadata": {},
   "outputs": [],
   "source": [
    "def change_to_lowercase(text):\n",
    "    return text.lower()"
   ]
  },
  {
   "cell_type": "code",
   "execution_count": 13,
   "id": "2fdd9734-5a03-428e-a1b8-92d2117fcf82",
   "metadata": {},
   "outputs": [
    {
     "data": {
      "text/plain": [
       "\"average (and surprisingly tame) fulci giallo which means it's still quite bad by normal standards, but redeemed by its solid build-up and some nice touches such as a neat time twist on the issues of visions and clairvoyance.<br /><br />the genre's well-known weaknesses are in full gear: banal dialogue, wooden acting, illogical plot points. and the finale goes on much too long, while the denouement proves to be a rather lame or shall i say: limp affair.<br /><br />fulci's ironic handling of giallo norms is amusing, though. yellow clues wherever you look.<br /><br /> out of  limping killers\""
      ]
     },
     "execution_count": 13,
     "metadata": {},
     "output_type": "execute_result"
    }
   ],
   "source": [
    "review1 = review1.lower()\n",
    "review1"
   ]
  },
  {
   "cell_type": "markdown",
   "id": "81653dfa-8521-4890-a307-c37fbfd7ebf5",
   "metadata": {},
   "source": [
    "### Part 3: Removing the HTML tags from the review"
   ]
  },
  {
   "cell_type": "code",
   "execution_count": 14,
   "id": "646c52e0-51a5-4310-aa2b-b67f142cef4e",
   "metadata": {},
   "outputs": [],
   "source": [
    "def remove_html_tags(text):\n",
    "    clean = re.compile('<.*?>')\n",
    "    return re.sub(clean, ' ', text);"
   ]
  },
  {
   "cell_type": "code",
   "execution_count": 15,
   "id": "0913928f-ef40-4f07-b932-5f80833f3ea5",
   "metadata": {},
   "outputs": [
    {
     "data": {
      "text/plain": [
       "\"average (and surprisingly tame) fulci giallo which means it's still quite bad by normal standards, but redeemed by its solid build-up and some nice touches such as a neat time twist on the issues of visions and clairvoyance.  the genre's well-known weaknesses are in full gear: banal dialogue, wooden acting, illogical plot points. and the finale goes on much too long, while the denouement proves to be a rather lame or shall i say: limp affair.  fulci's ironic handling of giallo norms is amusing, though. yellow clues wherever you look.   out of  limping killers\""
      ]
     },
     "execution_count": 15,
     "metadata": {},
     "output_type": "execute_result"
    }
   ],
   "source": [
    "review1 = remove_html_tags(review1)\n",
    "review1"
   ]
  },
  {
   "cell_type": "markdown",
   "id": "805e0b5e-1d9b-4333-95a2-cc66a263e791",
   "metadata": {},
   "source": [
    "### Part 4: Removing any contractions"
   ]
  },
  {
   "cell_type": "code",
   "execution_count": 16,
   "id": "1506c34d-d6cf-4c38-b9cf-86ddea5de653",
   "metadata": {},
   "outputs": [],
   "source": [
    "import contractions\n",
    "\n",
    "def remove_contractions(text):\n",
    "    return contractions.fix(text)"
   ]
  },
  {
   "cell_type": "code",
   "execution_count": 17,
   "id": "576b13df-c493-44c7-bcff-28f51c840e81",
   "metadata": {},
   "outputs": [
    {
     "data": {
      "text/plain": [
       "\"average (and surprisingly tame) fulci giallo which means it is still quite bad by normal standards, but redeemed by its solid build-up and some nice touches such as a neat time twist on the issues of visions and clairvoyance.  the genre's well-known weaknesses are in full gear: banal dialogue, wooden acting, illogical plot points. and the finale goes on much too long, while the denouement proves to be a rather lame or shall i say: limp affair.  fulci's ironic handling of giallo norms is amusing, though. yellow clues wherever you look.   out of  limping killers\""
      ]
     },
     "execution_count": 17,
     "metadata": {},
     "output_type": "execute_result"
    }
   ],
   "source": [
    "review1 = remove_contractions(review1)\n",
    "review1"
   ]
  },
  {
   "cell_type": "markdown",
   "id": "0f9cc76a-4585-4f5a-b82b-8a1cacce00f7",
   "metadata": {},
   "source": [
    "### Part 5: Removing punctuation from the review"
   ]
  },
  {
   "cell_type": "code",
   "execution_count": 18,
   "id": "cd1e63d2-a0c0-42c4-bab6-275eb1d4208d",
   "metadata": {},
   "outputs": [],
   "source": [
    "def remove_pun(text):\n",
    "    return re.sub(r'[^\\w\\s]', ' ', text)"
   ]
  },
  {
   "cell_type": "code",
   "execution_count": 19,
   "id": "50e85d4f-7701-4ea0-83f6-f31cf7e7936d",
   "metadata": {},
   "outputs": [
    {
     "data": {
      "text/plain": [
       "'average  and surprisingly tame  fulci giallo which means it is still quite bad by normal standards  but redeemed by its solid build up and some nice touches such as a neat time twist on the issues of visions and clairvoyance   the genre s well known weaknesses are in full gear  banal dialogue  wooden acting  illogical plot points  and the finale goes on much too long  while the denouement proves to be a rather lame or shall i say  limp affair   fulci s ironic handling of giallo norms is amusing  though  yellow clues wherever you look    out of  limping killers'"
      ]
     },
     "execution_count": 19,
     "metadata": {},
     "output_type": "execute_result"
    }
   ],
   "source": [
    "review1 = remove_pun(review1)\n",
    "review1"
   ]
  },
  {
   "cell_type": "markdown",
   "id": "655c6318-d0d2-4f38-8b10-228fe0c78e8a",
   "metadata": {},
   "source": [
    "### Part 6: Removing any extra spaces created by removing punctuations"
   ]
  },
  {
   "cell_type": "code",
   "execution_count": 20,
   "id": "5333798f-550a-48ef-9673-703123bdffff",
   "metadata": {},
   "outputs": [],
   "source": [
    "def remove_spaces(text):\n",
    "    return re.sub(r'\\s+', ' ', text)"
   ]
  },
  {
   "cell_type": "code",
   "execution_count": 21,
   "id": "33eb8327-4c1c-4c50-ae26-6d4bb935ad6c",
   "metadata": {},
   "outputs": [
    {
     "data": {
      "text/plain": [
       "'average and surprisingly tame fulci giallo which means it is still quite bad by normal standards but redeemed by its solid build up and some nice touches such as a neat time twist on the issues of visions and clairvoyance the genre s well known weaknesses are in full gear banal dialogue wooden acting illogical plot points and the finale goes on much too long while the denouement proves to be a rather lame or shall i say limp affair fulci s ironic handling of giallo norms is amusing though yellow clues wherever you look out of limping killers'"
      ]
     },
     "execution_count": 21,
     "metadata": {},
     "output_type": "execute_result"
    }
   ],
   "source": [
    "review1 = remove_spaces(review1)\n",
    "review1"
   ]
  },
  {
   "cell_type": "markdown",
   "id": "b82ed17c-ca9f-40c2-8786-6f903c252eef",
   "metadata": {},
   "source": [
    "### Part 7: Removing stopwords from the review"
   ]
  },
  {
   "cell_type": "code",
   "execution_count": 22,
   "id": "85cce1e3-56c9-4d0f-8e86-4a0da24ff451",
   "metadata": {},
   "outputs": [],
   "source": [
    "import nltk\n",
    "from nltk.corpus import stopwords"
   ]
  },
  {
   "cell_type": "code",
   "execution_count": 23,
   "id": "eb3265ec-8f76-4624-af55-492d5ead3c10",
   "metadata": {},
   "outputs": [
    {
     "name": "stderr",
     "output_type": "stream",
     "text": [
      "[nltk_data] Downloading package stopwords to\n",
      "[nltk_data]     /Users/anirudhkaushal/nltk_data...\n",
      "[nltk_data]   Package stopwords is already up-to-date!\n",
      "[nltk_data] Downloading package wordnet to\n",
      "[nltk_data]     /Users/anirudhkaushal/nltk_data...\n",
      "[nltk_data]   Package wordnet is already up-to-date!\n"
     ]
    }
   ],
   "source": [
    "nltk.download('stopwords')\n",
    "nltk.download('wordnet')\n",
    "stop_words = stopwords.words('english')"
   ]
  },
  {
   "cell_type": "code",
   "execution_count": 24,
   "id": "760ecf0f-289d-4b76-a271-eb891fcbfada",
   "metadata": {},
   "outputs": [],
   "source": [
    "def remove_stopwords(text):\n",
    "    text_ = ' '.join(word for word in text.split() if word not in stop_words)\n",
    "    return text_"
   ]
  },
  {
   "cell_type": "code",
   "execution_count": 25,
   "id": "fe3c3836-e7af-4a9f-8a9f-8de69aab19e7",
   "metadata": {},
   "outputs": [
    {
     "data": {
      "text/plain": [
       "'average surprisingly tame fulci giallo means still quite bad normal standards redeemed solid build nice touches neat time twist issues visions clairvoyance genre well known weaknesses full gear banal dialogue wooden acting illogical plot points finale goes much long denouement proves rather lame shall say limp affair fulci ironic handling giallo norms amusing though yellow clues wherever look limping killers'"
      ]
     },
     "execution_count": 25,
     "metadata": {},
     "output_type": "execute_result"
    }
   ],
   "source": [
    "review1 = remove_stopwords(review1)\n",
    "review1"
   ]
  },
  {
   "cell_type": "markdown",
   "id": "183778a3-f9d3-4b4e-ae11-8f177c3617cb",
   "metadata": {},
   "source": [
    "### Part 8: Keeping 10 first and last words from the review"
   ]
  },
  {
   "cell_type": "code",
   "execution_count": 26,
   "id": "821c2dce-3e5e-4a9f-baac-61b24da81304",
   "metadata": {},
   "outputs": [],
   "source": [
    "numberOfWords = 10;\n",
    "def keep_x_first_last_word(text): \n",
    "    items = text.split(' ')\n",
    "    return ' '.join(items[:numberOfWords]) + ' ' + ' '.join(items[len(items)-numberOfWords:])"
   ]
  },
  {
   "cell_type": "code",
   "execution_count": 27,
   "id": "526c8ee3-81d0-4761-8fbd-ce8cddb73f4d",
   "metadata": {},
   "outputs": [
    {
     "data": {
      "text/plain": [
       "'average surprisingly tame fulci giallo means still quite bad normal giallo norms amusing though yellow clues wherever look limping killers'"
      ]
     },
     "execution_count": 27,
     "metadata": {},
     "output_type": "execute_result"
    }
   ],
   "source": [
    "review1 = keep_x_first_last_word(review1)\n",
    "review1"
   ]
  },
  {
   "cell_type": "markdown",
   "id": "eb2553c9-c73e-4d22-9af8-8a352a2514fe",
   "metadata": {},
   "source": [
    "### Part 9: Applying lemmitization on the review"
   ]
  },
  {
   "cell_type": "code",
   "execution_count": 28,
   "id": "0fe8de9d-3b43-40fc-ae84-d4e94027a765",
   "metadata": {},
   "outputs": [],
   "source": [
    "from nltk.stem import WordNetLemmatizer\n",
    "\n",
    "lemmatizer = WordNetLemmatizer()"
   ]
  },
  {
   "cell_type": "code",
   "execution_count": 29,
   "id": "8985fbd7-3960-43c0-af66-52879471a188",
   "metadata": {},
   "outputs": [
    {
     "name": "stderr",
     "output_type": "stream",
     "text": [
      "[nltk_data] Downloading package punkt to\n",
      "[nltk_data]     /Users/anirudhkaushal/nltk_data...\n",
      "[nltk_data]   Package punkt is already up-to-date!\n",
      "[nltk_data] Downloading package omw-1.4 to\n",
      "[nltk_data]     /Users/anirudhkaushal/nltk_data...\n",
      "[nltk_data]   Package omw-1.4 is already up-to-date!\n",
      "[nltk_data] Downloading package averaged_perceptron_tagger to\n",
      "[nltk_data]     /Users/anirudhkaushal/nltk_data...\n",
      "[nltk_data]   Package averaged_perceptron_tagger is already up-to-\n",
      "[nltk_data]       date!\n"
     ]
    },
    {
     "data": {
      "text/plain": [
       "True"
      ]
     },
     "execution_count": 29,
     "metadata": {},
     "output_type": "execute_result"
    }
   ],
   "source": [
    "nltk.download('punkt')\n",
    "nltk.download('omw-1.4')\n",
    "nltk.download('averaged_perceptron_tagger')"
   ]
  },
  {
   "cell_type": "code",
   "execution_count": 30,
   "id": "2b3ce5f6-0d4d-413c-874e-a89ab2fb2928",
   "metadata": {},
   "outputs": [],
   "source": [
    "from nltk.corpus import wordnet\n",
    "\n",
    "def get_wordnet_pos(treebank_tag):\n",
    "    if treebank_tag.startswith('J'):\n",
    "        return wordnet.ADJ\n",
    "    elif treebank_tag.startswith('V'):\n",
    "        return wordnet.VERB\n",
    "    elif treebank_tag.startswith('N'):\n",
    "        return wordnet.NOUN\n",
    "    elif treebank_tag.startswith('R'):\n",
    "        return wordnet.ADV\n",
    "    else: # As default pos in lemmatization is Noun\n",
    "        return wordnet.NOUN"
   ]
  },
  {
   "cell_type": "code",
   "execution_count": 31,
   "id": "91c13f61-441a-475b-97a3-194cf46b8f66",
   "metadata": {},
   "outputs": [],
   "source": [
    "def apply_lemmatization(text):\n",
    "    text_word_tag_list = nltk.pos_tag(nltk.word_tokenize(text))\n",
    "    text_ = ' '.join([lemmatizer.lemmatize(word, get_wordnet_pos(pos)) for (word, pos) in text_word_tag_list])\n",
    "    return text_"
   ]
  },
  {
   "cell_type": "code",
   "execution_count": 32,
   "id": "edea368b-ac17-49c0-a2a8-09db8a21be10",
   "metadata": {},
   "outputs": [
    {
     "data": {
      "text/plain": [
       "'average surprisingly tame fulci giallo mean still quite bad normal giallo norm amuse though yellow clue wherever look limp killer'"
      ]
     },
     "execution_count": 32,
     "metadata": {},
     "output_type": "execute_result"
    }
   ],
   "source": [
    "review1 = apply_lemmatization(review1)\n",
    "review1"
   ]
  },
  {
   "cell_type": "code",
   "execution_count": null,
   "id": "c14239ee-2606-4bf8-a50c-f48ad32cca90",
   "metadata": {},
   "outputs": [],
   "source": []
  },
  {
   "cell_type": "code",
   "execution_count": 33,
   "id": "fdb6d244-1f96-4f8a-9757-99d203893570",
   "metadata": {},
   "outputs": [],
   "source": [
    "pos_words = ['fantastic', 'great', 'excellent', 'perfect', 'wonderful', 'underrated', 'amaze', 'outstanding', 'brilliant', 'greatest']"
   ]
  },
  {
   "cell_type": "code",
   "execution_count": 34,
   "id": "5f347228-cb91-4b12-abf8-a34695c55278",
   "metadata": {},
   "outputs": [],
   "source": [
    "neg_words = ['bad', 'horrible', 'terrible', 'awful', 'crappy', 'ridiculous', 'worse', 'stupid', 'suck', 'worst', 'boring', 'traumatise', 'dumbest']"
   ]
  },
  {
   "cell_type": "code",
   "execution_count": 35,
   "id": "d0bc8ad1-c04c-4e4e-86d9-dbe119923530",
   "metadata": {},
   "outputs": [],
   "source": [
    "def search_similar_words(text):\n",
    "    \n",
    "    pos_count = 0;\n",
    "    neg_count = 0;\n",
    "    \n",
    "    p_text = \"\"\n",
    "    n_text = \"\"\n",
    "    \n",
    "    for w in pos_words:\n",
    "        if w in text:\n",
    "            pos_count = pos_count + 1\n",
    "            p_text = p_text + w + \" \"\n",
    "            \n",
    "    for w in neg_words:\n",
    "        if w in text:\n",
    "            neg_count = neg_count + 1\n",
    "            n_text = n_text + w + \" \"\n",
    "            \n",
    "    if(pos_count > neg_count):\n",
    "        text = p_text\n",
    "    \n",
    "    if(neg_count > pos_count):\n",
    "        text = n_text\n",
    "        \n",
    "    return text.rstrip()"
   ]
  },
  {
   "cell_type": "code",
   "execution_count": 36,
   "id": "78075b07-b84a-487c-b09f-f118226ff178",
   "metadata": {},
   "outputs": [
    {
     "data": {
      "text/plain": [
       "'bad'"
      ]
     },
     "execution_count": 36,
     "metadata": {},
     "output_type": "execute_result"
    }
   ],
   "source": [
    "review1 = search_similar_words(review1)\n",
    "review1"
   ]
  },
  {
   "cell_type": "code",
   "execution_count": null,
   "id": "da0ffe6c-d487-4371-a095-282c6c6dc501",
   "metadata": {},
   "outputs": [],
   "source": []
  },
  {
   "cell_type": "markdown",
   "id": "8c55a045-bbac-4eb5-9efa-23133b6a83e3",
   "metadata": {},
   "source": [
    "### We see that the text processing steps work well and now we apply those to our entire dataset"
   ]
  },
  {
   "cell_type": "code",
   "execution_count": 37,
   "id": "b866fdaa",
   "metadata": {},
   "outputs": [],
   "source": [
    "df['review'] = df['review'].apply(remove_digits)"
   ]
  },
  {
   "cell_type": "code",
   "execution_count": 38,
   "id": "f8fdc8d9-e31d-4c58-a9cc-0ea07dca4448",
   "metadata": {},
   "outputs": [],
   "source": [
    "df['review'] = df['review'].apply(change_to_lowercase)"
   ]
  },
  {
   "cell_type": "code",
   "execution_count": 39,
   "id": "8fb01c1c-4e2c-4989-ae53-c89120d6a0aa",
   "metadata": {},
   "outputs": [],
   "source": [
    "df['review'] = df['review'].apply(remove_html_tags)"
   ]
  },
  {
   "cell_type": "code",
   "execution_count": 40,
   "id": "39bbe4c0-cafb-497a-9982-fa03a6894b31",
   "metadata": {},
   "outputs": [],
   "source": [
    "df['review'] = df['review'].apply(remove_contractions)"
   ]
  },
  {
   "cell_type": "code",
   "execution_count": 41,
   "id": "a13804e9-f548-400c-9623-8f87f8a24096",
   "metadata": {},
   "outputs": [],
   "source": [
    "df['review'] = df['review'].apply(remove_pun)"
   ]
  },
  {
   "cell_type": "code",
   "execution_count": 42,
   "id": "4a735c0c-6a94-4c21-b278-e160e9bcf5ec",
   "metadata": {},
   "outputs": [],
   "source": [
    "df['review'] = df['review'].apply(remove_spaces)"
   ]
  },
  {
   "cell_type": "code",
   "execution_count": 43,
   "id": "c522e813-0977-41c2-bf75-1061c026f39b",
   "metadata": {},
   "outputs": [],
   "source": [
    "df['review'] = df['review'].apply(remove_stopwords)"
   ]
  },
  {
   "cell_type": "code",
   "execution_count": 44,
   "id": "812f4bc9",
   "metadata": {},
   "outputs": [],
   "source": [
    "# df['review'] = df['review'].apply(keep_x_first_last_word)"
   ]
  },
  {
   "cell_type": "code",
   "execution_count": 45,
   "id": "8a17876e-6006-438e-9987-81f638881a94",
   "metadata": {},
   "outputs": [],
   "source": [
    "df['review'] = df['review'].apply(apply_lemmatization)"
   ]
  },
  {
   "cell_type": "code",
   "execution_count": 46,
   "id": "ba1f8dca-9278-48b5-ad2c-19bfa1c53a96",
   "metadata": {},
   "outputs": [],
   "source": [
    "df['review'] = df['review'].apply(search_similar_words)"
   ]
  },
  {
   "cell_type": "code",
   "execution_count": 47,
   "id": "10ae8aee",
   "metadata": {},
   "outputs": [],
   "source": [
    "df.to_csv(\"../input/cleanseDAta.csv\");"
   ]
  },
  {
   "cell_type": "code",
   "execution_count": null,
   "id": "96c8c1bd",
   "metadata": {},
   "outputs": [],
   "source": []
  }
 ],
 "metadata": {
  "kernelspec": {
   "display_name": "Python 3 (ipykernel)",
   "language": "python",
   "name": "python3"
  },
  "language_info": {
   "codemirror_mode": {
    "name": "ipython",
    "version": 3
   },
   "file_extension": ".py",
   "mimetype": "text/x-python",
   "name": "python",
   "nbconvert_exporter": "python",
   "pygments_lexer": "ipython3",
   "version": "3.10.4"
  }
 },
 "nbformat": 4,
 "nbformat_minor": 5
}
