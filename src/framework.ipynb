{
 "cells": [
  {
   "cell_type": "code",
   "execution_count": 4,
   "metadata": {},
   "outputs": [],
   "source": [
    "import numpy as np\n",
    "from scipy import sparse\n",
    "from collections import defaultdict\n",
    "from classify import experiment_train_test"
   ]
  },
  {
   "cell_type": "code",
   "execution_count": 3,
   "metadata": {},
   "outputs": [],
   "source": [
    "# load example data\n",
    "input_path = \"../input/\"\n",
    "X_train = sparse.load_npz(input_path+\"train_phi.npz\")\n",
    "X_test = sparse.load_npz(input_path+\"test_phi.npz\")\n",
    "y_train = np.load(input_path+\"train_label.npy\")\n",
    "y_test = np.load(input_path+\"test_label.npy\")"
   ]
  },
  {
   "cell_type": "code",
   "execution_count": 6,
   "metadata": {},
   "outputs": [
    {
     "name": "stdout",
     "output_type": "stream",
     "text": [
      "MultinomialNB()\n",
      "              precision    recall  f1-score   support\n",
      "\n",
      "           0      0.766     0.924     0.838      3681\n",
      "           1      0.908     0.726     0.807      3790\n",
      "\n",
      "    accuracy                          0.824      7471\n",
      "   macro avg      0.837     0.825     0.823      7471\n",
      "weighted avg      0.838     0.824     0.822      7471\n",
      "\n",
      "LinearSVC()\n",
      "              precision    recall  f1-score   support\n",
      "\n",
      "           0      0.887     0.878     0.882      3681\n",
      "           1      0.882     0.892     0.887      3790\n",
      "\n",
      "    accuracy                          0.885      7471\n",
      "   macro avg      0.885     0.885     0.885      7471\n",
      "weighted avg      0.885     0.885     0.885      7471\n",
      "\n",
      "LogisticRegression(solver='liblinear')\n",
      "              precision    recall  f1-score   support\n",
      "\n",
      "           0      0.855     0.839     0.847      3681\n",
      "           1      0.847     0.862     0.854      3790\n",
      "\n",
      "    accuracy                          0.851      7471\n",
      "   macro avg      0.851     0.851     0.851      7471\n",
      "weighted avg      0.851     0.851     0.851      7471\n",
      "\n"
     ]
    }
   ],
   "source": [
    "# train / test\n",
    "models = ['nb', 'svm', 'lr']\n",
    "results = defaultdict()\n",
    "\n",
    "for model in models:\n",
    "  results[model] = experiment_train_test(X_train=X_train,\n",
    "                                         y_train=y_train, \n",
    "                                         X_test=X_test, \n",
    "                                         y_test=y_test, \n",
    "                                         classifier=model,\n",
    "                                         verbose=True)"
   ]
  },
  {
   "cell_type": "code",
   "execution_count": 9,
   "metadata": {},
   "outputs": [
    {
     "name": "stdout",
     "output_type": "stream",
     "text": [
      "nb:\t0.823\n",
      "svm:\t0.885\n",
      "lr:\t0.851\n"
     ]
    }
   ],
   "source": [
    "# f-1 scores\n",
    "for k,v in results.items():\n",
    "  print(f\"{k}:\\t{v['score']:.3f}\")"
   ]
  }
 ],
 "metadata": {
  "kernelspec": {
   "display_name": "Python 3.7.6 64-bit ('3.7.6')",
   "language": "python",
   "name": "python3"
  },
  "language_info": {
   "codemirror_mode": {
    "name": "ipython",
    "version": 3
   },
   "file_extension": ".py",
   "mimetype": "text/x-python",
   "name": "python",
   "nbconvert_exporter": "python",
   "pygments_lexer": "ipython3",
   "version": "3.7.6"
  },
  "orig_nbformat": 4,
  "vscode": {
   "interpreter": {
    "hash": "8dc3eafe1b0ac348fa60c3f2fd57ab4c4183a188f28f3536c13d39268a6fd935"
   }
  }
 },
 "nbformat": 4,
 "nbformat_minor": 2
}
