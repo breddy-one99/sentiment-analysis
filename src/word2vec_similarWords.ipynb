{
 "cells": [
  {
   "cell_type": "code",
   "execution_count": 1,
   "id": "e1a5506e-1104-4c71-9c6d-017b33ebf5d5",
   "metadata": {},
   "outputs": [],
   "source": [
    "import gensim\n",
    "import pandas as pd\n",
    "import numpy as np\n",
    "from collections import defaultdict\n",
    "from classify import experiment_train_test\n",
    "\n",
    "import warnings\n",
    "warnings.filterwarnings(\"ignore\")"
   ]
  },
  {
   "cell_type": "code",
   "execution_count": 2,
   "id": "21442020-1e39-436c-bc5c-4cfa0a4fc251",
   "metadata": {},
   "outputs": [],
   "source": [
    "# load train data\n",
    "df = pd.read_csv(\"../input/cleanseDAta.csv\")"
   ]
  },
  {
   "cell_type": "code",
   "execution_count": 3,
   "id": "59aaa65a-e2ed-4bc1-b231-7d9afd9b50fe",
   "metadata": {},
   "outputs": [
    {
     "data": {
      "text/html": [
       "<div>\n",
       "<style scoped>\n",
       "    .dataframe tbody tr th:only-of-type {\n",
       "        vertical-align: middle;\n",
       "    }\n",
       "\n",
       "    .dataframe tbody tr th {\n",
       "        vertical-align: top;\n",
       "    }\n",
       "\n",
       "    .dataframe thead th {\n",
       "        text-align: right;\n",
       "    }\n",
       "</style>\n",
       "<table border=\"1\" class=\"dataframe\">\n",
       "  <thead>\n",
       "    <tr style=\"text-align: right;\">\n",
       "      <th></th>\n",
       "      <th>Unnamed: 0</th>\n",
       "      <th>review</th>\n",
       "      <th>sentiment</th>\n",
       "    </tr>\n",
       "  </thead>\n",
       "  <tbody>\n",
       "    <tr>\n",
       "      <th>0</th>\n",
       "      <td>0</td>\n",
       "      <td>one reviewer mention watch oz episode hook rig...</td>\n",
       "      <td>positive</td>\n",
       "    </tr>\n",
       "    <tr>\n",
       "      <th>1</th>\n",
       "      <td>1</td>\n",
       "      <td>wonderful little production film technique una...</td>\n",
       "      <td>positive</td>\n",
       "    </tr>\n",
       "    <tr>\n",
       "      <th>2</th>\n",
       "      <td>2</td>\n",
       "      <td>think wonderful way spend time hot summer week...</td>\n",
       "      <td>positive</td>\n",
       "    </tr>\n",
       "    <tr>\n",
       "      <th>3</th>\n",
       "      <td>3</td>\n",
       "      <td>basically family little boy jake think zombie ...</td>\n",
       "      <td>negative</td>\n",
       "    </tr>\n",
       "    <tr>\n",
       "      <th>4</th>\n",
       "      <td>4</td>\n",
       "      <td>petter mattei love time money visually stunnin...</td>\n",
       "      <td>positive</td>\n",
       "    </tr>\n",
       "  </tbody>\n",
       "</table>\n",
       "</div>"
      ],
      "text/plain": [
       "   Unnamed: 0                                             review sentiment\n",
       "0           0  one reviewer mention watch oz episode hook rig...  positive\n",
       "1           1  wonderful little production film technique una...  positive\n",
       "2           2  think wonderful way spend time hot summer week...  positive\n",
       "3           3  basically family little boy jake think zombie ...  negative\n",
       "4           4  petter mattei love time money visually stunnin...  positive"
      ]
     },
     "execution_count": 3,
     "metadata": {},
     "output_type": "execute_result"
    }
   ],
   "source": [
    "df.head()"
   ]
  },
  {
   "cell_type": "code",
   "execution_count": 4,
   "id": "50a4b722-94c5-40ce-935a-60abfa0d3a6c",
   "metadata": {},
   "outputs": [
    {
     "data": {
      "text/plain": [
       "0        [one, reviewer, mention, watch, oz, episode, h...\n",
       "1        [wonderful, little, production, film, techniqu...\n",
       "2        [think, wonderful, way, spend, time, hot, summ...\n",
       "3        [basically, family, little, boy, jake, think, ...\n",
       "4        [petter, mattei, love, time, money, visually, ...\n",
       "                               ...                        \n",
       "49995    [think, movie, right, good, job, creative, ori...\n",
       "49996    [bad, plot, bad, dialogue, bad, act, idiotic, ...\n",
       "49997    [catholic, teach, parochial, elementary, schoo...\n",
       "49998    [go, disagree, previous, comment, side, maltin...\n",
       "49999    [one, expect, star, trek, movie, high, art, fa...\n",
       "Name: review, Length: 50000, dtype: object"
      ]
     },
     "execution_count": 4,
     "metadata": {},
     "output_type": "execute_result"
    }
   ],
   "source": [
    "review_text = df['review'].apply(gensim.utils.simple_preprocess)\n",
    "review_text"
   ]
  },
  {
   "cell_type": "code",
   "execution_count": 5,
   "id": "12cbc2c9-19d5-4a98-87a5-ebe010865593",
   "metadata": {},
   "outputs": [],
   "source": [
    "model = gensim.models.Word2Vec(\n",
    "    window = 10,\n",
    "    min_count = 2\n",
    ")"
   ]
  },
  {
   "cell_type": "code",
   "execution_count": 6,
   "id": "a9ae11d4-6ef2-4d64-91ee-b209a9e02a1d",
   "metadata": {},
   "outputs": [],
   "source": [
    "model.build_vocab(review_text, progress_per = 1000)"
   ]
  },
  {
   "cell_type": "code",
   "execution_count": 7,
   "id": "d9b00416-70ca-4717-80c3-39b66e202297",
   "metadata": {},
   "outputs": [
    {
     "data": {
      "text/plain": [
       "5"
      ]
     },
     "execution_count": 7,
     "metadata": {},
     "output_type": "execute_result"
    }
   ],
   "source": [
    "model.epochs"
   ]
  },
  {
   "cell_type": "code",
   "execution_count": 8,
   "id": "7aa0eb98-e786-4db1-a010-db9e4d787b81",
   "metadata": {},
   "outputs": [
    {
     "data": {
      "text/plain": [
       "50000"
      ]
     },
     "execution_count": 8,
     "metadata": {},
     "output_type": "execute_result"
    }
   ],
   "source": [
    "model.corpus_count"
   ]
  },
  {
   "cell_type": "code",
   "execution_count": 9,
   "id": "744a5bb0-4a93-4cd2-8dfb-65e9a1297603",
   "metadata": {},
   "outputs": [
    {
     "data": {
      "text/plain": [
       "(4349553, 4983210)"
      ]
     },
     "execution_count": 9,
     "metadata": {},
     "output_type": "execute_result"
    }
   ],
   "source": [
    "model.train(review_text, total_examples = model.corpus_count, epochs = model.epochs)"
   ]
  },
  {
   "cell_type": "code",
   "execution_count": 13,
   "id": "f1a893a9-a1d6-41f7-916c-b8e583f6365c",
   "metadata": {},
   "outputs": [
    {
     "data": {
      "text/plain": [
       "[('fantastic', 0.8400156497955322),\n",
       " ('excellent', 0.8267327547073364),\n",
       " ('perfect', 0.8245216012001038),\n",
       " ('wonderful', 0.823573648929596),\n",
       " ('underrated', 0.7466266751289368),\n",
       " ('fine', 0.7433408498764038),\n",
       " ('amaze', 0.7430500984191895),\n",
       " ('outstanding', 0.7315570116043091),\n",
       " ('brilliant', 0.719570517539978),\n",
       " ('exclude', 0.7178438901901245)]"
      ]
     },
     "execution_count": 13,
     "metadata": {},
     "output_type": "execute_result"
    }
   ],
   "source": [
    "model.wv.similar_by_word(\"great\")"
   ]
  },
  {
   "cell_type": "code",
   "execution_count": 14,
   "id": "2e6f1b92-6aaf-458d-98a8-b198f555600e",
   "metadata": {},
   "outputs": [
    {
     "data": {
      "text/plain": [
       "[('amaze', 0.9435619115829468),\n",
       " ('incredible', 0.9031370282173157),\n",
       " ('greatest', 0.8590757846832275),\n",
       " ('stand', 0.8541914820671082),\n",
       " ('silliest', 0.8419725894927979),\n",
       " ('fantastic', 0.8394713401794434),\n",
       " ('pixar', 0.8389349579811096),\n",
       " ('galaxina', 0.836421549320221),\n",
       " ('underestimated', 0.8213001489639282),\n",
       " ('hindi', 0.8207396864891052)]"
      ]
     },
     "execution_count": 14,
     "metadata": {},
     "output_type": "execute_result"
    }
   ],
   "source": [
    "model.wv.similar_by_word(\"amazing\")"
   ]
  },
  {
   "cell_type": "code",
   "execution_count": 11,
   "id": "b30d83b0-228b-43e2-9987-9f4760bf510c",
   "metadata": {},
   "outputs": [
    {
     "data": {
      "text/plain": [
       "[('horrible', 0.8696014881134033),\n",
       " ('terrible', 0.8402481079101562),\n",
       " ('awful', 0.8272355794906616),\n",
       " ('crappy', 0.8262007832527161),\n",
       " ('ridiculous', 0.8202272653579712),\n",
       " ('worse', 0.8161944150924683),\n",
       " ('stupid', 0.7998431921005249),\n",
       " ('suck', 0.7898384928703308),\n",
       " ('worst', 0.787878692150116),\n",
       " ('boring', 0.7875757813453674)]"
      ]
     },
     "execution_count": 11,
     "metadata": {},
     "output_type": "execute_result"
    }
   ],
   "source": [
    "model.wv.similar_by_word(\"bad\")"
   ]
  },
  {
   "cell_type": "code",
   "execution_count": 15,
   "id": "30351ca1-02e1-405b-ab58-9838e276b19a",
   "metadata": {},
   "outputs": [
    {
     "data": {
      "text/plain": [
       "[('possibly', 0.9046772122383118),\n",
       " ('doubt', 0.8665449023246765),\n",
       " ('cheesiest', 0.8509103655815125),\n",
       " ('traumatise', 0.8091619610786438),\n",
       " ('dumbest', 0.7990915179252625),\n",
       " ('fungicide', 0.7990517616271973),\n",
       " ('greatest', 0.7944402098655701),\n",
       " ('scariest', 0.7942544221878052),\n",
       " ('funniest', 0.792280375957489),\n",
       " ('worse', 0.7919859886169434)]"
      ]
     },
     "execution_count": 15,
     "metadata": {},
     "output_type": "execute_result"
    }
   ],
   "source": [
    "model.wv.similar_by_word(\"worst\")"
   ]
  },
  {
   "cell_type": "code",
   "execution_count": 12,
   "id": "80f3f1ce-0cee-4e4c-a36c-ca67de8abfb6",
   "metadata": {},
   "outputs": [
    {
     "data": {
      "text/plain": [
       "[('watchable', 0.9080445766448975),\n",
       " ('standard', 0.8765836954116821),\n",
       " ('fair', 0.8688828945159912),\n",
       " ('mediocre', 0.8626630902290344),\n",
       " ('campy', 0.8591241836547852),\n",
       " ('extremely', 0.8581792712211609),\n",
       " ('overall', 0.851992666721344),\n",
       " ('disappointing', 0.8438284993171692),\n",
       " ('level', 0.8432433605194092),\n",
       " ('flaw', 0.8428188562393188)]"
      ]
     },
     "execution_count": 12,
     "metadata": {},
     "output_type": "execute_result"
    }
   ],
   "source": [
    "model.wv.similar_by_word(\"average\")"
   ]
  },
  {
   "cell_type": "code",
   "execution_count": null,
   "id": "24e20674-cc37-4487-98e2-e41d29626fc7",
   "metadata": {},
   "outputs": [],
   "source": []
  }
 ],
 "metadata": {
  "kernelspec": {
   "display_name": "Python 3 (ipykernel)",
   "language": "python",
   "name": "python3"
  },
  "language_info": {
   "codemirror_mode": {
    "name": "ipython",
    "version": 3
   },
   "file_extension": ".py",
   "mimetype": "text/x-python",
   "name": "python",
   "nbconvert_exporter": "python",
   "pygments_lexer": "ipython3",
   "version": "3.10.4"
  }
 },
 "nbformat": 4,
 "nbformat_minor": 5
}
